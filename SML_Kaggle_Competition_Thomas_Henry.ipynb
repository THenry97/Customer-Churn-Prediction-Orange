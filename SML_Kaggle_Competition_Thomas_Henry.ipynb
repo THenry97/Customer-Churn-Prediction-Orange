{
 "cells": [
  {
   "cell_type": "markdown",
   "metadata": {},
   "source": [
    "# Kaggle Competition: Customer Churn Prediction\n",
    "\n",
    "## Predict the propensity of customers to switch provider for Orange"
   ]
  },
  {
   "cell_type": "code",
   "execution_count": 1,
   "metadata": {},
   "outputs": [],
   "source": [
    "#import all necessary packages\n",
    "import pandas as pd\n",
    "import numpy as np\n",
    "from numpy import std\n",
    "from numpy import mean\n",
    "import matplotlib.pyplot as plt\n",
    "from sklearn.model_selection import train_test_split\n",
    "from sklearn.preprocessing import OrdinalEncoder\n",
    "from sklearn.preprocessing import OneHotEncoder\n",
    "from sklearn import preprocessing\n",
    "from sklearn.model_selection import cross_val_score\n",
    "from sklearn.model_selection import RepeatedStratifiedKFold\n",
    "from sklearn.model_selection import StratifiedKFold\n",
    "from sklearn.feature_selection import RFE\n",
    "from sklearn.linear_model import LogisticRegression\n",
    "from sklearn.linear_model import Perceptron\n",
    "from sklearn.tree import DecisionTreeClassifier\n",
    "from sklearn.ensemble import RandomForestClassifier\n",
    "from sklearn.ensemble import GradientBoostingClassifier\n",
    "from sklearn.discriminant_analysis import QuadraticDiscriminantAnalysis\n",
    "from sklearn.neighbors import KNeighborsClassifier\n",
    "from sklearn.pipeline import Pipeline\n",
    "from sklearn.linear_model import SGDClassifier\n",
    "from sklearn.feature_selection import RFECV\n",
    "from matplotlib import pyplot\n",
    "import category_encoders as ce\n",
    "from sklearn.svm import SVC\n",
    "from sklearn.metrics import roc_curve\n",
    "from sklearn.ensemble import BaggingClassifier\n",
    "from sklearn.metrics import roc_auc_score\n",
    "from scipy.stats            import pearsonr\n",
    "from sklearn.metrics import recall_score\n",
    "from sklearn.discriminant_analysis import LinearDiscriminantAnalysis\n",
    "from sklearn.preprocessing import StandardScaler\n",
    "import lightgbm\n",
    "from xgboost import XGBClassifier\n",
    "from sklearn.model_selection import GridSearchCV\n",
    "from sklearn.ensemble import StackingClassifier\n",
    "\n",
    "from skopt import BayesSearchCV"
   ]
  },
  {
   "cell_type": "code",
   "execution_count": 2,
   "metadata": {},
   "outputs": [],
   "source": [
    "#import training set\n",
    "train = pd.read_csv(\"orange_churn_train.csv\")"
   ]
  },
  {
   "cell_type": "code",
   "execution_count": 3,
   "metadata": {
    "scrolled": true
   },
   "outputs": [
    {
     "data": {
      "text/html": [
       "<div>\n",
       "<style scoped>\n",
       "    .dataframe tbody tr th:only-of-type {\n",
       "        vertical-align: middle;\n",
       "    }\n",
       "\n",
       "    .dataframe tbody tr th {\n",
       "        vertical-align: top;\n",
       "    }\n",
       "\n",
       "    .dataframe thead th {\n",
       "        text-align: right;\n",
       "    }\n",
       "</style>\n",
       "<table border=\"1\" class=\"dataframe\">\n",
       "  <thead>\n",
       "    <tr style=\"text-align: right;\">\n",
       "      <th></th>\n",
       "      <th>cust_id</th>\n",
       "      <th>Var1</th>\n",
       "      <th>Var2</th>\n",
       "      <th>Var3</th>\n",
       "      <th>Var4</th>\n",
       "      <th>Var5</th>\n",
       "      <th>Var6</th>\n",
       "      <th>Var7</th>\n",
       "      <th>Var8</th>\n",
       "      <th>Var9</th>\n",
       "      <th>...</th>\n",
       "      <th>Var222</th>\n",
       "      <th>Var223</th>\n",
       "      <th>Var224</th>\n",
       "      <th>Var225</th>\n",
       "      <th>Var226</th>\n",
       "      <th>Var227</th>\n",
       "      <th>Var228</th>\n",
       "      <th>Var229</th>\n",
       "      <th>Var230</th>\n",
       "      <th>churn</th>\n",
       "    </tr>\n",
       "  </thead>\n",
       "  <tbody>\n",
       "    <tr>\n",
       "      <th>0</th>\n",
       "      <td>3</td>\n",
       "      <td>NaN</td>\n",
       "      <td>NaN</td>\n",
       "      <td>NaN</td>\n",
       "      <td>NaN</td>\n",
       "      <td>NaN</td>\n",
       "      <td>1351.0</td>\n",
       "      <td>7.0</td>\n",
       "      <td>NaN</td>\n",
       "      <td>NaN</td>\n",
       "      <td>...</td>\n",
       "      <td>catzS2D</td>\n",
       "      <td>LM8l689qOp</td>\n",
       "      <td>NaN</td>\n",
       "      <td>ELof</td>\n",
       "      <td>7P5s</td>\n",
       "      <td>ZI9m</td>\n",
       "      <td>NoEd</td>\n",
       "      <td>mj86</td>\n",
       "      <td>NaN</td>\n",
       "      <td>0</td>\n",
       "    </tr>\n",
       "    <tr>\n",
       "      <th>1</th>\n",
       "      <td>4</td>\n",
       "      <td>NaN</td>\n",
       "      <td>NaN</td>\n",
       "      <td>NaN</td>\n",
       "      <td>NaN</td>\n",
       "      <td>NaN</td>\n",
       "      <td>644.0</td>\n",
       "      <td>0.0</td>\n",
       "      <td>NaN</td>\n",
       "      <td>NaN</td>\n",
       "      <td>...</td>\n",
       "      <td>76DJixu</td>\n",
       "      <td>LM8l689qOp</td>\n",
       "      <td>NaN</td>\n",
       "      <td>NaN</td>\n",
       "      <td>7P5s</td>\n",
       "      <td>RAYp</td>\n",
       "      <td>F2FyR07IdsN7I</td>\n",
       "      <td>NaN</td>\n",
       "      <td>NaN</td>\n",
       "      <td>0</td>\n",
       "    </tr>\n",
       "    <tr>\n",
       "      <th>2</th>\n",
       "      <td>7</td>\n",
       "      <td>NaN</td>\n",
       "      <td>NaN</td>\n",
       "      <td>NaN</td>\n",
       "      <td>NaN</td>\n",
       "      <td>NaN</td>\n",
       "      <td>2583.0</td>\n",
       "      <td>0.0</td>\n",
       "      <td>NaN</td>\n",
       "      <td>NaN</td>\n",
       "      <td>...</td>\n",
       "      <td>I5dzv5f</td>\n",
       "      <td>LM8l689qOp</td>\n",
       "      <td>NaN</td>\n",
       "      <td>NaN</td>\n",
       "      <td>FSa2</td>\n",
       "      <td>RAYp</td>\n",
       "      <td>F2FyR07IdsN7I</td>\n",
       "      <td>NaN</td>\n",
       "      <td>NaN</td>\n",
       "      <td>1</td>\n",
       "    </tr>\n",
       "    <tr>\n",
       "      <th>3</th>\n",
       "      <td>8</td>\n",
       "      <td>NaN</td>\n",
       "      <td>NaN</td>\n",
       "      <td>NaN</td>\n",
       "      <td>NaN</td>\n",
       "      <td>NaN</td>\n",
       "      <td>1463.0</td>\n",
       "      <td>7.0</td>\n",
       "      <td>NaN</td>\n",
       "      <td>NaN</td>\n",
       "      <td>...</td>\n",
       "      <td>xwyAw04</td>\n",
       "      <td>LM8l689qOp</td>\n",
       "      <td>NaN</td>\n",
       "      <td>kG3k</td>\n",
       "      <td>fKCe</td>\n",
       "      <td>RAYp</td>\n",
       "      <td>F2FyR07IdsN7I</td>\n",
       "      <td>mj86</td>\n",
       "      <td>NaN</td>\n",
       "      <td>0</td>\n",
       "    </tr>\n",
       "    <tr>\n",
       "      <th>4</th>\n",
       "      <td>9</td>\n",
       "      <td>NaN</td>\n",
       "      <td>NaN</td>\n",
       "      <td>NaN</td>\n",
       "      <td>NaN</td>\n",
       "      <td>NaN</td>\n",
       "      <td>77.0</td>\n",
       "      <td>0.0</td>\n",
       "      <td>NaN</td>\n",
       "      <td>NaN</td>\n",
       "      <td>...</td>\n",
       "      <td>76DJixu</td>\n",
       "      <td>NaN</td>\n",
       "      <td>NaN</td>\n",
       "      <td>NaN</td>\n",
       "      <td>7P5s</td>\n",
       "      <td>RAYp</td>\n",
       "      <td>F2FyR07IdsN7I</td>\n",
       "      <td>NaN</td>\n",
       "      <td>NaN</td>\n",
       "      <td>0</td>\n",
       "    </tr>\n",
       "  </tbody>\n",
       "</table>\n",
       "<p>5 rows × 232 columns</p>\n",
       "</div>"
      ],
      "text/plain": [
       "   cust_id  Var1  Var2  Var3  Var4  Var5    Var6  Var7  Var8  Var9  ...  \\\n",
       "0        3   NaN   NaN   NaN   NaN   NaN  1351.0   7.0   NaN   NaN  ...   \n",
       "1        4   NaN   NaN   NaN   NaN   NaN   644.0   0.0   NaN   NaN  ...   \n",
       "2        7   NaN   NaN   NaN   NaN   NaN  2583.0   0.0   NaN   NaN  ...   \n",
       "3        8   NaN   NaN   NaN   NaN   NaN  1463.0   7.0   NaN   NaN  ...   \n",
       "4        9   NaN   NaN   NaN   NaN   NaN    77.0   0.0   NaN   NaN  ...   \n",
       "\n",
       "    Var222      Var223  Var224  Var225  Var226  Var227         Var228  Var229  \\\n",
       "0  catzS2D  LM8l689qOp     NaN    ELof    7P5s    ZI9m           NoEd    mj86   \n",
       "1  76DJixu  LM8l689qOp     NaN     NaN    7P5s    RAYp  F2FyR07IdsN7I     NaN   \n",
       "2  I5dzv5f  LM8l689qOp     NaN     NaN    FSa2    RAYp  F2FyR07IdsN7I     NaN   \n",
       "3  xwyAw04  LM8l689qOp     NaN    kG3k    fKCe    RAYp  F2FyR07IdsN7I    mj86   \n",
       "4  76DJixu         NaN     NaN     NaN    7P5s    RAYp  F2FyR07IdsN7I     NaN   \n",
       "\n",
       "   Var230  churn  \n",
       "0     NaN      0  \n",
       "1     NaN      0  \n",
       "2     NaN      1  \n",
       "3     NaN      0  \n",
       "4     NaN      0  \n",
       "\n",
       "[5 rows x 232 columns]"
      ]
     },
     "execution_count": 3,
     "metadata": {},
     "output_type": "execute_result"
    }
   ],
   "source": [
    "train.head()"
   ]
  },
  {
   "cell_type": "code",
   "execution_count": 4,
   "metadata": {},
   "outputs": [
    {
     "data": {
      "text/plain": [
       "1604602"
      ]
     },
     "execution_count": 4,
     "metadata": {},
     "output_type": "execute_result"
    }
   ],
   "source": [
    "#check for total number of missing\n",
    "train.isna().sum().sum()"
   ]
  },
  {
   "cell_type": "code",
   "execution_count": 5,
   "metadata": {},
   "outputs": [],
   "source": [
    "#drop all columns with a total number of missing values superior to 30%\n",
    "for i in train.columns:\n",
    "    train = train.dropna(thresh=0.66*len(train), axis=1)"
   ]
  },
  {
   "cell_type": "code",
   "execution_count": 6,
   "metadata": {},
   "outputs": [],
   "source": [
    "train_col = train.columns"
   ]
  },
  {
   "cell_type": "code",
   "execution_count": 7,
   "metadata": {},
   "outputs": [
    {
     "data": {
      "text/plain": [
       "43666"
      ]
     },
     "execution_count": 7,
     "metadata": {},
     "output_type": "execute_result"
    }
   ],
   "source": [
    "#check for total number of missing\n",
    "train.isna().sum().sum()"
   ]
  },
  {
   "cell_type": "code",
   "execution_count": null,
   "metadata": {},
   "outputs": [],
   "source": []
  },
  {
   "cell_type": "code",
   "execution_count": 8,
   "metadata": {},
   "outputs": [
    {
     "data": {
      "text/html": [
       "<div>\n",
       "<style scoped>\n",
       "    .dataframe tbody tr th:only-of-type {\n",
       "        vertical-align: middle;\n",
       "    }\n",
       "\n",
       "    .dataframe tbody tr th {\n",
       "        vertical-align: top;\n",
       "    }\n",
       "\n",
       "    .dataframe thead th {\n",
       "        text-align: right;\n",
       "    }\n",
       "</style>\n",
       "<table border=\"1\" class=\"dataframe\">\n",
       "  <thead>\n",
       "    <tr style=\"text-align: right;\">\n",
       "      <th></th>\n",
       "      <th>cust_id</th>\n",
       "      <th>Var6</th>\n",
       "      <th>Var7</th>\n",
       "      <th>Var13</th>\n",
       "      <th>Var21</th>\n",
       "      <th>Var22</th>\n",
       "      <th>Var24</th>\n",
       "      <th>Var25</th>\n",
       "      <th>Var28</th>\n",
       "      <th>Var35</th>\n",
       "      <th>...</th>\n",
       "      <th>Var218</th>\n",
       "      <th>Var219</th>\n",
       "      <th>Var220</th>\n",
       "      <th>Var221</th>\n",
       "      <th>Var222</th>\n",
       "      <th>Var223</th>\n",
       "      <th>Var226</th>\n",
       "      <th>Var227</th>\n",
       "      <th>Var228</th>\n",
       "      <th>churn</th>\n",
       "    </tr>\n",
       "  </thead>\n",
       "  <tbody>\n",
       "    <tr>\n",
       "      <th>0</th>\n",
       "      <td>3</td>\n",
       "      <td>1351.0</td>\n",
       "      <td>7.0</td>\n",
       "      <td>120.0</td>\n",
       "      <td>64.0</td>\n",
       "      <td>80.0</td>\n",
       "      <td>10.0</td>\n",
       "      <td>24.0</td>\n",
       "      <td>200.00</td>\n",
       "      <td>0.0</td>\n",
       "      <td>...</td>\n",
       "      <td>cJvF</td>\n",
       "      <td>FzaX</td>\n",
       "      <td>4UxGlow</td>\n",
       "      <td>zCkv</td>\n",
       "      <td>catzS2D</td>\n",
       "      <td>LM8l689qOp</td>\n",
       "      <td>7P5s</td>\n",
       "      <td>ZI9m</td>\n",
       "      <td>NoEd</td>\n",
       "      <td>0</td>\n",
       "    </tr>\n",
       "    <tr>\n",
       "      <th>1</th>\n",
       "      <td>4</td>\n",
       "      <td>644.0</td>\n",
       "      <td>0.0</td>\n",
       "      <td>0.0</td>\n",
       "      <td>148.0</td>\n",
       "      <td>185.0</td>\n",
       "      <td>0.0</td>\n",
       "      <td>40.0</td>\n",
       "      <td>186.64</td>\n",
       "      <td>0.0</td>\n",
       "      <td>...</td>\n",
       "      <td>cJvF</td>\n",
       "      <td>FzaX</td>\n",
       "      <td>7OmVzos</td>\n",
       "      <td>oslk</td>\n",
       "      <td>76DJixu</td>\n",
       "      <td>LM8l689qOp</td>\n",
       "      <td>7P5s</td>\n",
       "      <td>RAYp</td>\n",
       "      <td>F2FyR07IdsN7I</td>\n",
       "      <td>0</td>\n",
       "    </tr>\n",
       "    <tr>\n",
       "      <th>2</th>\n",
       "      <td>7</td>\n",
       "      <td>2583.0</td>\n",
       "      <td>0.0</td>\n",
       "      <td>0.0</td>\n",
       "      <td>984.0</td>\n",
       "      <td>1230.0</td>\n",
       "      <td>42.0</td>\n",
       "      <td>152.0</td>\n",
       "      <td>356.64</td>\n",
       "      <td>5.0</td>\n",
       "      <td>...</td>\n",
       "      <td>UYBR</td>\n",
       "      <td>FzaX</td>\n",
       "      <td>meWR98m</td>\n",
       "      <td>oslk</td>\n",
       "      <td>I5dzv5f</td>\n",
       "      <td>LM8l689qOp</td>\n",
       "      <td>FSa2</td>\n",
       "      <td>RAYp</td>\n",
       "      <td>F2FyR07IdsN7I</td>\n",
       "      <td>1</td>\n",
       "    </tr>\n",
       "    <tr>\n",
       "      <th>3</th>\n",
       "      <td>8</td>\n",
       "      <td>1463.0</td>\n",
       "      <td>7.0</td>\n",
       "      <td>5068.0</td>\n",
       "      <td>276.0</td>\n",
       "      <td>345.0</td>\n",
       "      <td>12.0</td>\n",
       "      <td>288.0</td>\n",
       "      <td>166.56</td>\n",
       "      <td>0.0</td>\n",
       "      <td>...</td>\n",
       "      <td>UYBR</td>\n",
       "      <td>FzaX</td>\n",
       "      <td>ie2oOXS</td>\n",
       "      <td>oslk</td>\n",
       "      <td>xwyAw04</td>\n",
       "      <td>LM8l689qOp</td>\n",
       "      <td>fKCe</td>\n",
       "      <td>RAYp</td>\n",
       "      <td>F2FyR07IdsN7I</td>\n",
       "      <td>0</td>\n",
       "    </tr>\n",
       "    <tr>\n",
       "      <th>4</th>\n",
       "      <td>9</td>\n",
       "      <td>77.0</td>\n",
       "      <td>0.0</td>\n",
       "      <td>0.0</td>\n",
       "      <td>24.0</td>\n",
       "      <td>30.0</td>\n",
       "      <td>0.0</td>\n",
       "      <td>8.0</td>\n",
       "      <td>278.96</td>\n",
       "      <td>5.0</td>\n",
       "      <td>...</td>\n",
       "      <td>cJvF</td>\n",
       "      <td>NaN</td>\n",
       "      <td>7OmVzos</td>\n",
       "      <td>oslk</td>\n",
       "      <td>76DJixu</td>\n",
       "      <td>NaN</td>\n",
       "      <td>7P5s</td>\n",
       "      <td>RAYp</td>\n",
       "      <td>F2FyR07IdsN7I</td>\n",
       "      <td>0</td>\n",
       "    </tr>\n",
       "  </tbody>\n",
       "</table>\n",
       "<p>5 rows × 69 columns</p>\n",
       "</div>"
      ],
      "text/plain": [
       "   cust_id    Var6  Var7   Var13  Var21   Var22  Var24  Var25   Var28  Var35  \\\n",
       "0        3  1351.0   7.0   120.0   64.0    80.0   10.0   24.0  200.00    0.0   \n",
       "1        4   644.0   0.0     0.0  148.0   185.0    0.0   40.0  186.64    0.0   \n",
       "2        7  2583.0   0.0     0.0  984.0  1230.0   42.0  152.0  356.64    5.0   \n",
       "3        8  1463.0   7.0  5068.0  276.0   345.0   12.0  288.0  166.56    0.0   \n",
       "4        9    77.0   0.0     0.0   24.0    30.0    0.0    8.0  278.96    5.0   \n",
       "\n",
       "   ...  Var218  Var219   Var220  Var221   Var222      Var223  Var226  Var227  \\\n",
       "0  ...    cJvF    FzaX  4UxGlow    zCkv  catzS2D  LM8l689qOp    7P5s    ZI9m   \n",
       "1  ...    cJvF    FzaX  7OmVzos    oslk  76DJixu  LM8l689qOp    7P5s    RAYp   \n",
       "2  ...    UYBR    FzaX  meWR98m    oslk  I5dzv5f  LM8l689qOp    FSa2    RAYp   \n",
       "3  ...    UYBR    FzaX  ie2oOXS    oslk  xwyAw04  LM8l689qOp    fKCe    RAYp   \n",
       "4  ...    cJvF     NaN  7OmVzos    oslk  76DJixu         NaN    7P5s    RAYp   \n",
       "\n",
       "          Var228  churn  \n",
       "0           NoEd      0  \n",
       "1  F2FyR07IdsN7I      0  \n",
       "2  F2FyR07IdsN7I      1  \n",
       "3  F2FyR07IdsN7I      0  \n",
       "4  F2FyR07IdsN7I      0  \n",
       "\n",
       "[5 rows x 69 columns]"
      ]
     },
     "execution_count": 8,
     "metadata": {},
     "output_type": "execute_result"
    }
   ],
   "source": [
    "#check for new number of columns\n",
    "train.head()"
   ]
  },
  {
   "cell_type": "code",
   "execution_count": 9,
   "metadata": {},
   "outputs": [
    {
     "name": "stdout",
     "output_type": "stream",
     "text": [
      "<class 'pandas.core.frame.DataFrame'>\n",
      "RangeIndex: 10000 entries, 0 to 9999\n",
      "Data columns (total 69 columns):\n",
      " #   Column   Non-Null Count  Dtype  \n",
      "---  ------   --------------  -----  \n",
      " 0   cust_id  10000 non-null  int64  \n",
      " 1   Var6     8913 non-null   float64\n",
      " 2   Var7     8911 non-null   float64\n",
      " 3   Var13    8911 non-null   float64\n",
      " 4   Var21    8913 non-null   float64\n",
      " 5   Var22    9019 non-null   float64\n",
      " 6   Var24    8556 non-null   float64\n",
      " 7   Var25    9019 non-null   float64\n",
      " 8   Var28    9019 non-null   float64\n",
      " 9   Var35    9019 non-null   float64\n",
      " 10  Var38    9019 non-null   float64\n",
      " 11  Var44    9019 non-null   float64\n",
      " 12  Var57    10000 non-null  float64\n",
      " 13  Var65    8911 non-null   float64\n",
      " 14  Var73    10000 non-null  int64  \n",
      " 15  Var74    8911 non-null   float64\n",
      " 16  Var76    9019 non-null   float64\n",
      " 17  Var78    9019 non-null   float64\n",
      " 18  Var81    8913 non-null   float64\n",
      " 19  Var83    9019 non-null   float64\n",
      " 20  Var85    9019 non-null   float64\n",
      " 21  Var109   8556 non-null   float64\n",
      " 22  Var112   9019 non-null   float64\n",
      " 23  Var113   10000 non-null  float64\n",
      " 24  Var119   8913 non-null   float64\n",
      " 25  Var123   9019 non-null   float64\n",
      " 26  Var125   8911 non-null   float64\n",
      " 27  Var126   7177 non-null   float64\n",
      " 28  Var132   9019 non-null   float64\n",
      " 29  Var133   9019 non-null   float64\n",
      " 30  Var134   9019 non-null   float64\n",
      " 31  Var140   8911 non-null   float64\n",
      " 32  Var143   9019 non-null   float64\n",
      " 33  Var144   8913 non-null   float64\n",
      " 34  Var149   8556 non-null   float64\n",
      " 35  Var153   9019 non-null   float64\n",
      " 36  Var160   9019 non-null   float64\n",
      " 37  Var163   9019 non-null   float64\n",
      " 38  Var173   9019 non-null   float64\n",
      " 39  Var181   9019 non-null   float64\n",
      " 40  Var192   9940 non-null   object \n",
      " 41  Var193   10000 non-null  object \n",
      " 42  Var195   10000 non-null  object \n",
      " 43  Var196   10000 non-null  object \n",
      " 44  Var197   9972 non-null   object \n",
      " 45  Var198   10000 non-null  object \n",
      " 46  Var199   9999 non-null   object \n",
      " 47  Var202   10000 non-null  object \n",
      " 48  Var203   9972 non-null   object \n",
      " 49  Var204   10000 non-null  object \n",
      " 50  Var205   9617 non-null   object \n",
      " 51  Var206   8913 non-null   object \n",
      " 52  Var207   10000 non-null  object \n",
      " 53  Var208   9972 non-null   object \n",
      " 54  Var210   10000 non-null  object \n",
      " 55  Var211   10000 non-null  object \n",
      " 56  Var212   10000 non-null  object \n",
      " 57  Var216   10000 non-null  object \n",
      " 58  Var217   9862 non-null   object \n",
      " 59  Var218   9862 non-null   object \n",
      " 60  Var219   8975 non-null   object \n",
      " 61  Var220   10000 non-null  object \n",
      " 62  Var221   10000 non-null  object \n",
      " 63  Var222   10000 non-null  object \n",
      " 64  Var223   8975 non-null   object \n",
      " 65  Var226   10000 non-null  object \n",
      " 66  Var227   10000 non-null  object \n",
      " 67  Var228   10000 non-null  object \n",
      " 68  churn    10000 non-null  int64  \n",
      "dtypes: float64(38), int64(3), object(28)\n",
      "memory usage: 5.3+ MB\n"
     ]
    }
   ],
   "source": [
    "#check data types\n",
    "train.info()"
   ]
  },
  {
   "cell_type": "code",
   "execution_count": 10,
   "metadata": {
    "scrolled": true
   },
   "outputs": [
    {
     "data": {
      "text/html": [
       "<div>\n",
       "<style scoped>\n",
       "    .dataframe tbody tr th:only-of-type {\n",
       "        vertical-align: middle;\n",
       "    }\n",
       "\n",
       "    .dataframe tbody tr th {\n",
       "        vertical-align: top;\n",
       "    }\n",
       "\n",
       "    .dataframe thead th {\n",
       "        text-align: right;\n",
       "    }\n",
       "</style>\n",
       "<table border=\"1\" class=\"dataframe\">\n",
       "  <thead>\n",
       "    <tr style=\"text-align: right;\">\n",
       "      <th></th>\n",
       "      <th>cust_id</th>\n",
       "      <th>Var6</th>\n",
       "      <th>Var7</th>\n",
       "      <th>Var13</th>\n",
       "      <th>Var21</th>\n",
       "      <th>Var22</th>\n",
       "      <th>Var24</th>\n",
       "      <th>Var25</th>\n",
       "      <th>Var28</th>\n",
       "      <th>Var35</th>\n",
       "      <th>...</th>\n",
       "      <th>Var218</th>\n",
       "      <th>Var219</th>\n",
       "      <th>Var220</th>\n",
       "      <th>Var221</th>\n",
       "      <th>Var222</th>\n",
       "      <th>Var223</th>\n",
       "      <th>Var226</th>\n",
       "      <th>Var227</th>\n",
       "      <th>Var228</th>\n",
       "      <th>churn</th>\n",
       "    </tr>\n",
       "  </thead>\n",
       "  <tbody>\n",
       "    <tr>\n",
       "      <th>0</th>\n",
       "      <td>3</td>\n",
       "      <td>1351.0</td>\n",
       "      <td>7.0</td>\n",
       "      <td>120.0</td>\n",
       "      <td>64.0</td>\n",
       "      <td>80.0</td>\n",
       "      <td>10.0</td>\n",
       "      <td>24.0</td>\n",
       "      <td>200.00</td>\n",
       "      <td>0.0</td>\n",
       "      <td>...</td>\n",
       "      <td>cJvF</td>\n",
       "      <td>FzaX</td>\n",
       "      <td>4UxGlow</td>\n",
       "      <td>zCkv</td>\n",
       "      <td>catzS2D</td>\n",
       "      <td>LM8l689qOp</td>\n",
       "      <td>7P5s</td>\n",
       "      <td>ZI9m</td>\n",
       "      <td>NoEd</td>\n",
       "      <td>0</td>\n",
       "    </tr>\n",
       "    <tr>\n",
       "      <th>1</th>\n",
       "      <td>4</td>\n",
       "      <td>644.0</td>\n",
       "      <td>0.0</td>\n",
       "      <td>0.0</td>\n",
       "      <td>148.0</td>\n",
       "      <td>185.0</td>\n",
       "      <td>0.0</td>\n",
       "      <td>40.0</td>\n",
       "      <td>186.64</td>\n",
       "      <td>0.0</td>\n",
       "      <td>...</td>\n",
       "      <td>cJvF</td>\n",
       "      <td>FzaX</td>\n",
       "      <td>7OmVzos</td>\n",
       "      <td>oslk</td>\n",
       "      <td>76DJixu</td>\n",
       "      <td>LM8l689qOp</td>\n",
       "      <td>7P5s</td>\n",
       "      <td>RAYp</td>\n",
       "      <td>F2FyR07IdsN7I</td>\n",
       "      <td>0</td>\n",
       "    </tr>\n",
       "    <tr>\n",
       "      <th>2</th>\n",
       "      <td>7</td>\n",
       "      <td>2583.0</td>\n",
       "      <td>0.0</td>\n",
       "      <td>0.0</td>\n",
       "      <td>984.0</td>\n",
       "      <td>1230.0</td>\n",
       "      <td>42.0</td>\n",
       "      <td>152.0</td>\n",
       "      <td>356.64</td>\n",
       "      <td>5.0</td>\n",
       "      <td>...</td>\n",
       "      <td>UYBR</td>\n",
       "      <td>FzaX</td>\n",
       "      <td>meWR98m</td>\n",
       "      <td>oslk</td>\n",
       "      <td>I5dzv5f</td>\n",
       "      <td>LM8l689qOp</td>\n",
       "      <td>FSa2</td>\n",
       "      <td>RAYp</td>\n",
       "      <td>F2FyR07IdsN7I</td>\n",
       "      <td>1</td>\n",
       "    </tr>\n",
       "    <tr>\n",
       "      <th>3</th>\n",
       "      <td>8</td>\n",
       "      <td>1463.0</td>\n",
       "      <td>7.0</td>\n",
       "      <td>5068.0</td>\n",
       "      <td>276.0</td>\n",
       "      <td>345.0</td>\n",
       "      <td>12.0</td>\n",
       "      <td>288.0</td>\n",
       "      <td>166.56</td>\n",
       "      <td>0.0</td>\n",
       "      <td>...</td>\n",
       "      <td>UYBR</td>\n",
       "      <td>FzaX</td>\n",
       "      <td>ie2oOXS</td>\n",
       "      <td>oslk</td>\n",
       "      <td>xwyAw04</td>\n",
       "      <td>LM8l689qOp</td>\n",
       "      <td>fKCe</td>\n",
       "      <td>RAYp</td>\n",
       "      <td>F2FyR07IdsN7I</td>\n",
       "      <td>0</td>\n",
       "    </tr>\n",
       "    <tr>\n",
       "      <th>4</th>\n",
       "      <td>9</td>\n",
       "      <td>77.0</td>\n",
       "      <td>0.0</td>\n",
       "      <td>0.0</td>\n",
       "      <td>24.0</td>\n",
       "      <td>30.0</td>\n",
       "      <td>0.0</td>\n",
       "      <td>8.0</td>\n",
       "      <td>278.96</td>\n",
       "      <td>5.0</td>\n",
       "      <td>...</td>\n",
       "      <td>cJvF</td>\n",
       "      <td>NaN</td>\n",
       "      <td>7OmVzos</td>\n",
       "      <td>oslk</td>\n",
       "      <td>76DJixu</td>\n",
       "      <td>NaN</td>\n",
       "      <td>7P5s</td>\n",
       "      <td>RAYp</td>\n",
       "      <td>F2FyR07IdsN7I</td>\n",
       "      <td>0</td>\n",
       "    </tr>\n",
       "  </tbody>\n",
       "</table>\n",
       "<p>5 rows × 69 columns</p>\n",
       "</div>"
      ],
      "text/plain": [
       "   cust_id    Var6  Var7   Var13  Var21   Var22  Var24  Var25   Var28  Var35  \\\n",
       "0        3  1351.0   7.0   120.0   64.0    80.0   10.0   24.0  200.00    0.0   \n",
       "1        4   644.0   0.0     0.0  148.0   185.0    0.0   40.0  186.64    0.0   \n",
       "2        7  2583.0   0.0     0.0  984.0  1230.0   42.0  152.0  356.64    5.0   \n",
       "3        8  1463.0   7.0  5068.0  276.0   345.0   12.0  288.0  166.56    0.0   \n",
       "4        9    77.0   0.0     0.0   24.0    30.0    0.0    8.0  278.96    5.0   \n",
       "\n",
       "   ...  Var218  Var219   Var220  Var221   Var222      Var223  Var226  Var227  \\\n",
       "0  ...    cJvF    FzaX  4UxGlow    zCkv  catzS2D  LM8l689qOp    7P5s    ZI9m   \n",
       "1  ...    cJvF    FzaX  7OmVzos    oslk  76DJixu  LM8l689qOp    7P5s    RAYp   \n",
       "2  ...    UYBR    FzaX  meWR98m    oslk  I5dzv5f  LM8l689qOp    FSa2    RAYp   \n",
       "3  ...    UYBR    FzaX  ie2oOXS    oslk  xwyAw04  LM8l689qOp    fKCe    RAYp   \n",
       "4  ...    cJvF     NaN  7OmVzos    oslk  76DJixu         NaN    7P5s    RAYp   \n",
       "\n",
       "          Var228  churn  \n",
       "0           NoEd      0  \n",
       "1  F2FyR07IdsN7I      0  \n",
       "2  F2FyR07IdsN7I      1  \n",
       "3  F2FyR07IdsN7I      0  \n",
       "4  F2FyR07IdsN7I      0  \n",
       "\n",
       "[5 rows x 69 columns]"
      ]
     },
     "execution_count": 10,
     "metadata": {},
     "output_type": "execute_result"
    }
   ],
   "source": [
    "train.head()"
   ]
  },
  {
   "cell_type": "code",
   "execution_count": 11,
   "metadata": {},
   "outputs": [
    {
     "data": {
      "text/plain": [
       "array(['zCkv', 'oslk', 'd0EEeJi', 'QKW8DRm', 'Al6ZaUT', 'z4pH', 'JIiEFBU'],\n",
       "      dtype=object)"
      ]
     },
     "execution_count": 11,
     "metadata": {},
     "output_type": "execute_result"
    }
   ],
   "source": [
    "train.Var221.unique()"
   ]
  },
  {
   "cell_type": "code",
   "execution_count": 12,
   "metadata": {},
   "outputs": [],
   "source": [
    "train_iv_list = train.columns[:-1]\n",
    "train_dv_list = train.columns[-1]\n",
    "\n",
    "train.Var73 = train.Var73.astype('float64')\n",
    "\n",
    "train_cat_list = [v for v in train_iv_list if train[v].dtypes == object]\n",
    "train_num_list = [v for v in train_iv_list if train[v].dtypes == np.number]"
   ]
  },
  {
   "cell_type": "code",
   "execution_count": 13,
   "metadata": {},
   "outputs": [
    {
     "data": {
      "text/plain": [
       "['Var6',\n",
       " 'Var7',\n",
       " 'Var13',\n",
       " 'Var21',\n",
       " 'Var22',\n",
       " 'Var24',\n",
       " 'Var25',\n",
       " 'Var28',\n",
       " 'Var35',\n",
       " 'Var38',\n",
       " 'Var44',\n",
       " 'Var57',\n",
       " 'Var65',\n",
       " 'Var73',\n",
       " 'Var74',\n",
       " 'Var76',\n",
       " 'Var78',\n",
       " 'Var81',\n",
       " 'Var83',\n",
       " 'Var85',\n",
       " 'Var109',\n",
       " 'Var112',\n",
       " 'Var113',\n",
       " 'Var119',\n",
       " 'Var123',\n",
       " 'Var125',\n",
       " 'Var126',\n",
       " 'Var132',\n",
       " 'Var133',\n",
       " 'Var134',\n",
       " 'Var140',\n",
       " 'Var143',\n",
       " 'Var144',\n",
       " 'Var149',\n",
       " 'Var153',\n",
       " 'Var160',\n",
       " 'Var163',\n",
       " 'Var173',\n",
       " 'Var181']"
      ]
     },
     "execution_count": 13,
     "metadata": {},
     "output_type": "execute_result"
    }
   ],
   "source": [
    "train_num_list"
   ]
  },
  {
   "cell_type": "code",
   "execution_count": 14,
   "metadata": {},
   "outputs": [],
   "source": [
    "#create a flag variable for categorical missing values\n",
    "for i in train_cat_list:\n",
    "    train[i+\"_cat_missing\"] = train[i].isnull()*1"
   ]
  },
  {
   "cell_type": "code",
   "execution_count": 15,
   "metadata": {},
   "outputs": [],
   "source": [
    "#fill all categorical missing values with a \"NAN\" string\n",
    "for i in train_cat_list:\n",
    "    train[i] = train[i].fillna(\"NAN\")"
   ]
  },
  {
   "cell_type": "code",
   "execution_count": 16,
   "metadata": {},
   "outputs": [
    {
     "data": {
      "text/html": [
       "<div>\n",
       "<style scoped>\n",
       "    .dataframe tbody tr th:only-of-type {\n",
       "        vertical-align: middle;\n",
       "    }\n",
       "\n",
       "    .dataframe tbody tr th {\n",
       "        vertical-align: top;\n",
       "    }\n",
       "\n",
       "    .dataframe thead th {\n",
       "        text-align: right;\n",
       "    }\n",
       "</style>\n",
       "<table border=\"1\" class=\"dataframe\">\n",
       "  <thead>\n",
       "    <tr style=\"text-align: right;\">\n",
       "      <th></th>\n",
       "      <th>cust_id</th>\n",
       "      <th>Var6</th>\n",
       "      <th>Var7</th>\n",
       "      <th>Var13</th>\n",
       "      <th>Var21</th>\n",
       "      <th>Var22</th>\n",
       "      <th>Var24</th>\n",
       "      <th>Var25</th>\n",
       "      <th>Var28</th>\n",
       "      <th>Var35</th>\n",
       "      <th>...</th>\n",
       "      <th>Var223_jySVZNlOJy</th>\n",
       "      <th>Var226_freq_encode</th>\n",
       "      <th>Var227_02N6s8f</th>\n",
       "      <th>Var227_6fzt</th>\n",
       "      <th>Var227_RAYp</th>\n",
       "      <th>Var227_ZI9m</th>\n",
       "      <th>Var227_nIGXDli</th>\n",
       "      <th>Var227_nIGjgSB</th>\n",
       "      <th>Var227_vJ_w8kB</th>\n",
       "      <th>Var228_freq_encode</th>\n",
       "    </tr>\n",
       "  </thead>\n",
       "  <tbody>\n",
       "    <tr>\n",
       "      <th>0</th>\n",
       "      <td>3</td>\n",
       "      <td>1351.0</td>\n",
       "      <td>7.0</td>\n",
       "      <td>120.0</td>\n",
       "      <td>64.0</td>\n",
       "      <td>80.0</td>\n",
       "      <td>10.0</td>\n",
       "      <td>24.0</td>\n",
       "      <td>200.00</td>\n",
       "      <td>0.0</td>\n",
       "      <td>...</td>\n",
       "      <td>0</td>\n",
       "      <td>0.0565</td>\n",
       "      <td>0</td>\n",
       "      <td>0</td>\n",
       "      <td>0</td>\n",
       "      <td>1</td>\n",
       "      <td>0</td>\n",
       "      <td>0</td>\n",
       "      <td>0</td>\n",
       "      <td>0.0100</td>\n",
       "    </tr>\n",
       "    <tr>\n",
       "      <th>1</th>\n",
       "      <td>4</td>\n",
       "      <td>644.0</td>\n",
       "      <td>0.0</td>\n",
       "      <td>0.0</td>\n",
       "      <td>148.0</td>\n",
       "      <td>185.0</td>\n",
       "      <td>0.0</td>\n",
       "      <td>40.0</td>\n",
       "      <td>186.64</td>\n",
       "      <td>0.0</td>\n",
       "      <td>...</td>\n",
       "      <td>0</td>\n",
       "      <td>0.0565</td>\n",
       "      <td>0</td>\n",
       "      <td>0</td>\n",
       "      <td>1</td>\n",
       "      <td>0</td>\n",
       "      <td>0</td>\n",
       "      <td>0</td>\n",
       "      <td>0</td>\n",
       "      <td>0.6502</td>\n",
       "    </tr>\n",
       "    <tr>\n",
       "      <th>2</th>\n",
       "      <td>7</td>\n",
       "      <td>2583.0</td>\n",
       "      <td>0.0</td>\n",
       "      <td>0.0</td>\n",
       "      <td>984.0</td>\n",
       "      <td>1230.0</td>\n",
       "      <td>42.0</td>\n",
       "      <td>152.0</td>\n",
       "      <td>356.64</td>\n",
       "      <td>5.0</td>\n",
       "      <td>...</td>\n",
       "      <td>0</td>\n",
       "      <td>0.1562</td>\n",
       "      <td>0</td>\n",
       "      <td>0</td>\n",
       "      <td>1</td>\n",
       "      <td>0</td>\n",
       "      <td>0</td>\n",
       "      <td>0</td>\n",
       "      <td>0</td>\n",
       "      <td>0.6502</td>\n",
       "    </tr>\n",
       "    <tr>\n",
       "      <th>3</th>\n",
       "      <td>8</td>\n",
       "      <td>1463.0</td>\n",
       "      <td>7.0</td>\n",
       "      <td>5068.0</td>\n",
       "      <td>276.0</td>\n",
       "      <td>345.0</td>\n",
       "      <td>12.0</td>\n",
       "      <td>288.0</td>\n",
       "      <td>166.56</td>\n",
       "      <td>0.0</td>\n",
       "      <td>...</td>\n",
       "      <td>0</td>\n",
       "      <td>0.0526</td>\n",
       "      <td>0</td>\n",
       "      <td>0</td>\n",
       "      <td>1</td>\n",
       "      <td>0</td>\n",
       "      <td>0</td>\n",
       "      <td>0</td>\n",
       "      <td>0</td>\n",
       "      <td>0.6502</td>\n",
       "    </tr>\n",
       "    <tr>\n",
       "      <th>4</th>\n",
       "      <td>9</td>\n",
       "      <td>77.0</td>\n",
       "      <td>0.0</td>\n",
       "      <td>0.0</td>\n",
       "      <td>24.0</td>\n",
       "      <td>30.0</td>\n",
       "      <td>0.0</td>\n",
       "      <td>8.0</td>\n",
       "      <td>278.96</td>\n",
       "      <td>5.0</td>\n",
       "      <td>...</td>\n",
       "      <td>0</td>\n",
       "      <td>0.0565</td>\n",
       "      <td>0</td>\n",
       "      <td>0</td>\n",
       "      <td>1</td>\n",
       "      <td>0</td>\n",
       "      <td>0</td>\n",
       "      <td>0</td>\n",
       "      <td>0</td>\n",
       "      <td>0.6502</td>\n",
       "    </tr>\n",
       "  </tbody>\n",
       "</table>\n",
       "<p>5 rows × 180 columns</p>\n",
       "</div>"
      ],
      "text/plain": [
       "   cust_id    Var6  Var7   Var13  Var21   Var22  Var24  Var25   Var28  Var35  \\\n",
       "0        3  1351.0   7.0   120.0   64.0    80.0   10.0   24.0  200.00    0.0   \n",
       "1        4   644.0   0.0     0.0  148.0   185.0    0.0   40.0  186.64    0.0   \n",
       "2        7  2583.0   0.0     0.0  984.0  1230.0   42.0  152.0  356.64    5.0   \n",
       "3        8  1463.0   7.0  5068.0  276.0   345.0   12.0  288.0  166.56    0.0   \n",
       "4        9    77.0   0.0     0.0   24.0    30.0    0.0    8.0  278.96    5.0   \n",
       "\n",
       "   ...  Var223_jySVZNlOJy  Var226_freq_encode  Var227_02N6s8f  Var227_6fzt  \\\n",
       "0  ...                  0              0.0565               0            0   \n",
       "1  ...                  0              0.0565               0            0   \n",
       "2  ...                  0              0.1562               0            0   \n",
       "3  ...                  0              0.0526               0            0   \n",
       "4  ...                  0              0.0565               0            0   \n",
       "\n",
       "   Var227_RAYp  Var227_ZI9m  Var227_nIGXDli  Var227_nIGjgSB  Var227_vJ_w8kB  \\\n",
       "0            0            1               0               0               0   \n",
       "1            1            0               0               0               0   \n",
       "2            1            0               0               0               0   \n",
       "3            1            0               0               0               0   \n",
       "4            1            0               0               0               0   \n",
       "\n",
       "   Var228_freq_encode  \n",
       "0              0.0100  \n",
       "1              0.6502  \n",
       "2              0.6502  \n",
       "3              0.6502  \n",
       "4              0.6502  \n",
       "\n",
       "[5 rows x 180 columns]"
      ]
     },
     "execution_count": 16,
     "metadata": {},
     "output_type": "execute_result"
    }
   ],
   "source": [
    "# #use integer encoding to code the categorical variables into integers for the model\n",
    "# one_hot = OneHotEncoder()\n",
    "\n",
    "#get all the classes to be remapped\n",
    "# for i in train_cat_list:\n",
    "#     tmp = train[i].value_counts(normalize=True)\n",
    "#     remap_class = tmp[tmp < 0.01].index.values\n",
    "#     train[i + '_Remap'] = train[i]\n",
    "#     for c in remap_class:\n",
    "#         train.loc[train[i + '_Remap'] == c, i + '_Remap'] = 'Less_than_1pct'\n",
    "        \n",
    "# train = train.drop(columns = train_cat_list, axis = 1)\n",
    "\n",
    "# train_iv_list = train.columns[:-1]\n",
    "\n",
    "# train_cat_list = [v for v in train_iv_list if train[v].dtypes == object]\n",
    "\n",
    "#create a new column code for each coded variables to keep track of the replacement\n",
    "for i in train_cat_list:\n",
    "    if train[i].nunique() < 20:\n",
    "        train = pd.get_dummies(train, columns=[i])\n",
    "    else:\n",
    "        fe = train.groupby(i).size()/len(train)\n",
    "        train.loc[:, i + '_freq_encode'] = train[i].map(fe)\n",
    "    \n",
    "# woe_encoder = ce.WOEEncoder(cols=train_cat_list)\n",
    "# woe_encoder.fit(train[train_cat_list], train[\"churn\"])\n",
    "# woe_encoded_train = woe_encoder.transform(train[train_cat_list]).add_suffix('_woe')\n",
    "# train = train.join(woe_encoded_train)\n",
    "    \n",
    "train.head()"
   ]
  },
  {
   "cell_type": "code",
   "execution_count": 17,
   "metadata": {},
   "outputs": [],
   "source": [
    "#create a new flag column for numerical missing values\n",
    "for i in train_num_list:\n",
    "    train[i+\"_num_missing\"] = train[i].isnull()*1"
   ]
  },
  {
   "cell_type": "code",
   "execution_count": 18,
   "metadata": {},
   "outputs": [],
   "source": [
    "#fill numerical missing values with the mean\n",
    "for i in train_num_list:\n",
    "    train[i] = train[i].fillna(train[i].mean())"
   ]
  },
  {
   "cell_type": "code",
   "execution_count": 19,
   "metadata": {},
   "outputs": [],
   "source": [
    "# scaler = StandardScaler()\n",
    "\n",
    "# scaled_train = scaler.fit_transform(train[train_num_list])\n",
    "\n",
    "# scaled_train = pd.DataFrame(scaled_train)\n",
    "\n",
    "# train = train.join(scaled_train)"
   ]
  },
  {
   "cell_type": "code",
   "execution_count": 20,
   "metadata": {},
   "outputs": [
    {
     "data": {
      "text/html": [
       "<div>\n",
       "<style scoped>\n",
       "    .dataframe tbody tr th:only-of-type {\n",
       "        vertical-align: middle;\n",
       "    }\n",
       "\n",
       "    .dataframe tbody tr th {\n",
       "        vertical-align: top;\n",
       "    }\n",
       "\n",
       "    .dataframe thead th {\n",
       "        text-align: right;\n",
       "    }\n",
       "</style>\n",
       "<table border=\"1\" class=\"dataframe\">\n",
       "  <thead>\n",
       "    <tr style=\"text-align: right;\">\n",
       "      <th></th>\n",
       "      <th>cust_id</th>\n",
       "      <th>Var6</th>\n",
       "      <th>Var7</th>\n",
       "      <th>Var13</th>\n",
       "      <th>Var21</th>\n",
       "      <th>Var22</th>\n",
       "      <th>Var24</th>\n",
       "      <th>Var25</th>\n",
       "      <th>Var28</th>\n",
       "      <th>Var35</th>\n",
       "      <th>...</th>\n",
       "      <th>Var134_num_missing</th>\n",
       "      <th>Var140_num_missing</th>\n",
       "      <th>Var143_num_missing</th>\n",
       "      <th>Var144_num_missing</th>\n",
       "      <th>Var149_num_missing</th>\n",
       "      <th>Var153_num_missing</th>\n",
       "      <th>Var160_num_missing</th>\n",
       "      <th>Var163_num_missing</th>\n",
       "      <th>Var173_num_missing</th>\n",
       "      <th>Var181_num_missing</th>\n",
       "    </tr>\n",
       "  </thead>\n",
       "  <tbody>\n",
       "    <tr>\n",
       "      <th>0</th>\n",
       "      <td>3</td>\n",
       "      <td>1351.0</td>\n",
       "      <td>7.0</td>\n",
       "      <td>120.0</td>\n",
       "      <td>64.0</td>\n",
       "      <td>80.0</td>\n",
       "      <td>10.0</td>\n",
       "      <td>24.0</td>\n",
       "      <td>200.00</td>\n",
       "      <td>0.0</td>\n",
       "      <td>...</td>\n",
       "      <td>0</td>\n",
       "      <td>0</td>\n",
       "      <td>0</td>\n",
       "      <td>0</td>\n",
       "      <td>0</td>\n",
       "      <td>0</td>\n",
       "      <td>0</td>\n",
       "      <td>0</td>\n",
       "      <td>0</td>\n",
       "      <td>0</td>\n",
       "    </tr>\n",
       "    <tr>\n",
       "      <th>1</th>\n",
       "      <td>4</td>\n",
       "      <td>644.0</td>\n",
       "      <td>0.0</td>\n",
       "      <td>0.0</td>\n",
       "      <td>148.0</td>\n",
       "      <td>185.0</td>\n",
       "      <td>0.0</td>\n",
       "      <td>40.0</td>\n",
       "      <td>186.64</td>\n",
       "      <td>0.0</td>\n",
       "      <td>...</td>\n",
       "      <td>0</td>\n",
       "      <td>0</td>\n",
       "      <td>0</td>\n",
       "      <td>0</td>\n",
       "      <td>0</td>\n",
       "      <td>0</td>\n",
       "      <td>0</td>\n",
       "      <td>0</td>\n",
       "      <td>0</td>\n",
       "      <td>0</td>\n",
       "    </tr>\n",
       "    <tr>\n",
       "      <th>2</th>\n",
       "      <td>7</td>\n",
       "      <td>2583.0</td>\n",
       "      <td>0.0</td>\n",
       "      <td>0.0</td>\n",
       "      <td>984.0</td>\n",
       "      <td>1230.0</td>\n",
       "      <td>42.0</td>\n",
       "      <td>152.0</td>\n",
       "      <td>356.64</td>\n",
       "      <td>5.0</td>\n",
       "      <td>...</td>\n",
       "      <td>0</td>\n",
       "      <td>0</td>\n",
       "      <td>0</td>\n",
       "      <td>0</td>\n",
       "      <td>0</td>\n",
       "      <td>0</td>\n",
       "      <td>0</td>\n",
       "      <td>0</td>\n",
       "      <td>0</td>\n",
       "      <td>0</td>\n",
       "    </tr>\n",
       "    <tr>\n",
       "      <th>3</th>\n",
       "      <td>8</td>\n",
       "      <td>1463.0</td>\n",
       "      <td>7.0</td>\n",
       "      <td>5068.0</td>\n",
       "      <td>276.0</td>\n",
       "      <td>345.0</td>\n",
       "      <td>12.0</td>\n",
       "      <td>288.0</td>\n",
       "      <td>166.56</td>\n",
       "      <td>0.0</td>\n",
       "      <td>...</td>\n",
       "      <td>0</td>\n",
       "      <td>0</td>\n",
       "      <td>0</td>\n",
       "      <td>0</td>\n",
       "      <td>0</td>\n",
       "      <td>0</td>\n",
       "      <td>0</td>\n",
       "      <td>0</td>\n",
       "      <td>0</td>\n",
       "      <td>0</td>\n",
       "    </tr>\n",
       "    <tr>\n",
       "      <th>4</th>\n",
       "      <td>9</td>\n",
       "      <td>77.0</td>\n",
       "      <td>0.0</td>\n",
       "      <td>0.0</td>\n",
       "      <td>24.0</td>\n",
       "      <td>30.0</td>\n",
       "      <td>0.0</td>\n",
       "      <td>8.0</td>\n",
       "      <td>278.96</td>\n",
       "      <td>5.0</td>\n",
       "      <td>...</td>\n",
       "      <td>0</td>\n",
       "      <td>0</td>\n",
       "      <td>0</td>\n",
       "      <td>0</td>\n",
       "      <td>0</td>\n",
       "      <td>0</td>\n",
       "      <td>0</td>\n",
       "      <td>0</td>\n",
       "      <td>0</td>\n",
       "      <td>0</td>\n",
       "    </tr>\n",
       "  </tbody>\n",
       "</table>\n",
       "<p>5 rows × 219 columns</p>\n",
       "</div>"
      ],
      "text/plain": [
       "   cust_id    Var6  Var7   Var13  Var21   Var22  Var24  Var25   Var28  Var35  \\\n",
       "0        3  1351.0   7.0   120.0   64.0    80.0   10.0   24.0  200.00    0.0   \n",
       "1        4   644.0   0.0     0.0  148.0   185.0    0.0   40.0  186.64    0.0   \n",
       "2        7  2583.0   0.0     0.0  984.0  1230.0   42.0  152.0  356.64    5.0   \n",
       "3        8  1463.0   7.0  5068.0  276.0   345.0   12.0  288.0  166.56    0.0   \n",
       "4        9    77.0   0.0     0.0   24.0    30.0    0.0    8.0  278.96    5.0   \n",
       "\n",
       "   ...  Var134_num_missing  Var140_num_missing  Var143_num_missing  \\\n",
       "0  ...                   0                   0                   0   \n",
       "1  ...                   0                   0                   0   \n",
       "2  ...                   0                   0                   0   \n",
       "3  ...                   0                   0                   0   \n",
       "4  ...                   0                   0                   0   \n",
       "\n",
       "   Var144_num_missing  Var149_num_missing  Var153_num_missing  \\\n",
       "0                   0                   0                   0   \n",
       "1                   0                   0                   0   \n",
       "2                   0                   0                   0   \n",
       "3                   0                   0                   0   \n",
       "4                   0                   0                   0   \n",
       "\n",
       "   Var160_num_missing  Var163_num_missing  Var173_num_missing  \\\n",
       "0                   0                   0                   0   \n",
       "1                   0                   0                   0   \n",
       "2                   0                   0                   0   \n",
       "3                   0                   0                   0   \n",
       "4                   0                   0                   0   \n",
       "\n",
       "   Var181_num_missing  \n",
       "0                   0  \n",
       "1                   0  \n",
       "2                   0  \n",
       "3                   0  \n",
       "4                   0  \n",
       "\n",
       "[5 rows x 219 columns]"
      ]
     },
     "execution_count": 20,
     "metadata": {},
     "output_type": "execute_result"
    }
   ],
   "source": [
    "train.head()"
   ]
  },
  {
   "cell_type": "code",
   "execution_count": 21,
   "metadata": {},
   "outputs": [],
   "source": [
    "# train = train.drop(columns = train_num_list, axis = 1)\n",
    "\n",
    "# train.head()"
   ]
  },
  {
   "cell_type": "code",
   "execution_count": 22,
   "metadata": {},
   "outputs": [
    {
     "data": {
      "text/plain": [
       "16"
      ]
     },
     "execution_count": 22,
     "metadata": {},
     "output_type": "execute_result"
    }
   ],
   "source": [
    "#check if any remain\n",
    "(train.dtypes == object).sum()"
   ]
  },
  {
   "cell_type": "code",
   "execution_count": 23,
   "metadata": {},
   "outputs": [],
   "source": [
    "#create a function to move a column at the end of the df\n",
    "def movecol(df, cols_to_move=[], ref_col='', place='After'):\n",
    "    \n",
    "    cols = df.columns.tolist()\n",
    "    if place == 'After':\n",
    "        seg1 = cols[:list(cols).index(ref_col) + 1]\n",
    "        seg2 = cols_to_move\n",
    "    if place == 'Before':\n",
    "        seg1 = cols[:list(cols).index(ref_col)]\n",
    "        seg2 = cols_to_move + [ref_col]\n",
    "    \n",
    "    seg1 = [i for i in seg1 if i not in seg2]\n",
    "    seg3 = [i for i in cols if i not in seg1 + seg2]\n",
    "    \n",
    "    return(df[seg1 + seg2 + seg3])"
   ]
  },
  {
   "cell_type": "code",
   "execution_count": 24,
   "metadata": {},
   "outputs": [],
   "source": [
    "#move the dependent variable to the end of the df\n",
    "train = movecol(train, \n",
    "             cols_to_move=['churn'], \n",
    "             ref_col='Var181_num_missing',\n",
    "             place='After')"
   ]
  },
  {
   "cell_type": "code",
   "execution_count": 25,
   "metadata": {},
   "outputs": [
    {
     "data": {
      "text/plain": [
       "0"
      ]
     },
     "execution_count": 25,
     "metadata": {},
     "output_type": "execute_result"
    }
   ],
   "source": [
    "train.isna().sum().sum()"
   ]
  },
  {
   "cell_type": "code",
   "execution_count": 26,
   "metadata": {},
   "outputs": [],
   "source": [
    "X = train.iloc[:,1:-1]\n",
    "y = train.iloc[:,-1]"
   ]
  },
  {
   "cell_type": "code",
   "execution_count": 27,
   "metadata": {},
   "outputs": [
    {
     "data": {
      "text/plain": [
       "0"
      ]
     },
     "execution_count": 27,
     "metadata": {},
     "output_type": "execute_result"
    }
   ],
   "source": [
    "X.isna().sum().sum()"
   ]
  },
  {
   "cell_type": "code",
   "execution_count": 28,
   "metadata": {},
   "outputs": [],
   "source": [
    "# import the test set\n",
    "test = pd.read_csv(\"orange_churn_test.csv\")"
   ]
  },
  {
   "cell_type": "code",
   "execution_count": 29,
   "metadata": {},
   "outputs": [
    {
     "name": "stdout",
     "output_type": "stream",
     "text": [
      "<class 'pandas.core.frame.DataFrame'>\n",
      "RangeIndex: 10000 entries, 0 to 9999\n",
      "Columns: 231 entries, cust_id to Var230\n",
      "dtypes: float64(191), int64(2), object(38)\n",
      "memory usage: 17.6+ MB\n"
     ]
    }
   ],
   "source": [
    "test.info()"
   ]
  },
  {
   "cell_type": "code",
   "execution_count": 30,
   "metadata": {},
   "outputs": [],
   "source": [
    "#creation of two lists for test variables\n",
    "test_iv_list = test.columns\n",
    "\n",
    "test_cat_list = [v for v in test_iv_list if test[v].dtypes == object]\n",
    "test_num_list = [v for v in test_iv_list if test[v].dtypes == np.number]"
   ]
  },
  {
   "cell_type": "code",
   "execution_count": 31,
   "metadata": {},
   "outputs": [],
   "source": [
    "#create a flag variable for categorical missing values\n",
    "for i in test_cat_list:\n",
    "    test[i+\"_cat_missing\"] = test[i].isnull()*1"
   ]
  },
  {
   "cell_type": "code",
   "execution_count": 32,
   "metadata": {},
   "outputs": [],
   "source": [
    "#fill all categorical missing values with a \"NAN\" string\n",
    "for i in test_cat_list:\n",
    "    test[i] = test[i].fillna(\"NAN\")"
   ]
  },
  {
   "cell_type": "code",
   "execution_count": 33,
   "metadata": {
    "scrolled": true
   },
   "outputs": [
    {
     "data": {
      "text/html": [
       "<div>\n",
       "<style scoped>\n",
       "    .dataframe tbody tr th:only-of-type {\n",
       "        vertical-align: middle;\n",
       "    }\n",
       "\n",
       "    .dataframe tbody tr th {\n",
       "        vertical-align: top;\n",
       "    }\n",
       "\n",
       "    .dataframe thead th {\n",
       "        text-align: right;\n",
       "    }\n",
       "</style>\n",
       "<table border=\"1\" class=\"dataframe\">\n",
       "  <thead>\n",
       "    <tr style=\"text-align: right;\">\n",
       "      <th></th>\n",
       "      <th>cust_id</th>\n",
       "      <th>Var1</th>\n",
       "      <th>Var2</th>\n",
       "      <th>Var3</th>\n",
       "      <th>Var4</th>\n",
       "      <th>Var5</th>\n",
       "      <th>Var6</th>\n",
       "      <th>Var7</th>\n",
       "      <th>Var8</th>\n",
       "      <th>Var9</th>\n",
       "      <th>...</th>\n",
       "      <th>Var227_ZI9m</th>\n",
       "      <th>Var227_nIGXDli</th>\n",
       "      <th>Var227_nIGjgSB</th>\n",
       "      <th>Var227_vJ_w8kB</th>\n",
       "      <th>Var228_freq_encode</th>\n",
       "      <th>Var229_NAN</th>\n",
       "      <th>Var229_am7c</th>\n",
       "      <th>Var229_mj86</th>\n",
       "      <th>Var229_oJmt</th>\n",
       "      <th>Var229_sk2h</th>\n",
       "    </tr>\n",
       "  </thead>\n",
       "  <tbody>\n",
       "    <tr>\n",
       "      <th>0</th>\n",
       "      <td>1</td>\n",
       "      <td>NaN</td>\n",
       "      <td>NaN</td>\n",
       "      <td>NaN</td>\n",
       "      <td>NaN</td>\n",
       "      <td>NaN</td>\n",
       "      <td>224.0</td>\n",
       "      <td>0.0</td>\n",
       "      <td>NaN</td>\n",
       "      <td>NaN</td>\n",
       "      <td>...</td>\n",
       "      <td>0</td>\n",
       "      <td>0</td>\n",
       "      <td>0</td>\n",
       "      <td>0</td>\n",
       "      <td>0.6489</td>\n",
       "      <td>1</td>\n",
       "      <td>0</td>\n",
       "      <td>0</td>\n",
       "      <td>0</td>\n",
       "      <td>0</td>\n",
       "    </tr>\n",
       "    <tr>\n",
       "      <th>1</th>\n",
       "      <td>2</td>\n",
       "      <td>NaN</td>\n",
       "      <td>NaN</td>\n",
       "      <td>NaN</td>\n",
       "      <td>NaN</td>\n",
       "      <td>NaN</td>\n",
       "      <td>7511.0</td>\n",
       "      <td>7.0</td>\n",
       "      <td>NaN</td>\n",
       "      <td>NaN</td>\n",
       "      <td>...</td>\n",
       "      <td>0</td>\n",
       "      <td>0</td>\n",
       "      <td>0</td>\n",
       "      <td>0</td>\n",
       "      <td>0.0892</td>\n",
       "      <td>0</td>\n",
       "      <td>0</td>\n",
       "      <td>1</td>\n",
       "      <td>0</td>\n",
       "      <td>0</td>\n",
       "    </tr>\n",
       "    <tr>\n",
       "      <th>2</th>\n",
       "      <td>5</td>\n",
       "      <td>NaN</td>\n",
       "      <td>NaN</td>\n",
       "      <td>NaN</td>\n",
       "      <td>NaN</td>\n",
       "      <td>NaN</td>\n",
       "      <td>70.0</td>\n",
       "      <td>0.0</td>\n",
       "      <td>NaN</td>\n",
       "      <td>NaN</td>\n",
       "      <td>...</td>\n",
       "      <td>0</td>\n",
       "      <td>0</td>\n",
       "      <td>0</td>\n",
       "      <td>0</td>\n",
       "      <td>0.6489</td>\n",
       "      <td>1</td>\n",
       "      <td>0</td>\n",
       "      <td>0</td>\n",
       "      <td>0</td>\n",
       "      <td>0</td>\n",
       "    </tr>\n",
       "    <tr>\n",
       "      <th>3</th>\n",
       "      <td>6</td>\n",
       "      <td>NaN</td>\n",
       "      <td>NaN</td>\n",
       "      <td>NaN</td>\n",
       "      <td>NaN</td>\n",
       "      <td>NaN</td>\n",
       "      <td>2863.0</td>\n",
       "      <td>7.0</td>\n",
       "      <td>NaN</td>\n",
       "      <td>NaN</td>\n",
       "      <td>...</td>\n",
       "      <td>0</td>\n",
       "      <td>0</td>\n",
       "      <td>0</td>\n",
       "      <td>0</td>\n",
       "      <td>0.6489</td>\n",
       "      <td>1</td>\n",
       "      <td>0</td>\n",
       "      <td>0</td>\n",
       "      <td>0</td>\n",
       "      <td>0</td>\n",
       "    </tr>\n",
       "    <tr>\n",
       "      <th>4</th>\n",
       "      <td>10</td>\n",
       "      <td>NaN</td>\n",
       "      <td>NaN</td>\n",
       "      <td>NaN</td>\n",
       "      <td>NaN</td>\n",
       "      <td>NaN</td>\n",
       "      <td>770.0</td>\n",
       "      <td>7.0</td>\n",
       "      <td>NaN</td>\n",
       "      <td>NaN</td>\n",
       "      <td>...</td>\n",
       "      <td>0</td>\n",
       "      <td>0</td>\n",
       "      <td>0</td>\n",
       "      <td>0</td>\n",
       "      <td>0.6489</td>\n",
       "      <td>1</td>\n",
       "      <td>0</td>\n",
       "      <td>0</td>\n",
       "      <td>0</td>\n",
       "      <td>0</td>\n",
       "    </tr>\n",
       "  </tbody>\n",
       "</table>\n",
       "<p>5 rows × 382 columns</p>\n",
       "</div>"
      ],
      "text/plain": [
       "   cust_id  Var1  Var2  Var3  Var4  Var5    Var6  Var7  Var8  Var9  ...  \\\n",
       "0        1   NaN   NaN   NaN   NaN   NaN   224.0   0.0   NaN   NaN  ...   \n",
       "1        2   NaN   NaN   NaN   NaN   NaN  7511.0   7.0   NaN   NaN  ...   \n",
       "2        5   NaN   NaN   NaN   NaN   NaN    70.0   0.0   NaN   NaN  ...   \n",
       "3        6   NaN   NaN   NaN   NaN   NaN  2863.0   7.0   NaN   NaN  ...   \n",
       "4       10   NaN   NaN   NaN   NaN   NaN   770.0   7.0   NaN   NaN  ...   \n",
       "\n",
       "   Var227_ZI9m  Var227_nIGXDli  Var227_nIGjgSB  Var227_vJ_w8kB  \\\n",
       "0            0               0               0               0   \n",
       "1            0               0               0               0   \n",
       "2            0               0               0               0   \n",
       "3            0               0               0               0   \n",
       "4            0               0               0               0   \n",
       "\n",
       "   Var228_freq_encode  Var229_NAN  Var229_am7c  Var229_mj86  Var229_oJmt  \\\n",
       "0              0.6489           1            0            0            0   \n",
       "1              0.0892           0            0            1            0   \n",
       "2              0.6489           1            0            0            0   \n",
       "3              0.6489           1            0            0            0   \n",
       "4              0.6489           1            0            0            0   \n",
       "\n",
       "   Var229_sk2h  \n",
       "0            0  \n",
       "1            0  \n",
       "2            0  \n",
       "3            0  \n",
       "4            0  \n",
       "\n",
       "[5 rows x 382 columns]"
      ]
     },
     "execution_count": 33,
     "metadata": {},
     "output_type": "execute_result"
    }
   ],
   "source": [
    "#get all the classes to be remapped\n",
    "# for i in test_cat_list:\n",
    "#     tmp = test[i].value_counts(normalize=True)\n",
    "#     remap_class = tmp[tmp < 0.01].index.values\n",
    "#     test[i + '_Remap'] = test[i]\n",
    "#     for c in remap_class:\n",
    "#         test.loc[test[i + '_Remap'] == c, i + '_Remap'] = 'Less_than_1pct'\n",
    "        \n",
    "# test = test.drop(columns = test_cat_list, axis = 1)\n",
    "\n",
    "# test_iv_list = test.columns\n",
    "\n",
    "# test_cat_list = [v for v in test_iv_list if test[v].dtypes == object]\n",
    "\n",
    "#create a new column code for each coded variables to keep track of the replacement\n",
    "for i in test_cat_list:\n",
    "    if test[i].nunique() < 20:\n",
    "        test = pd.get_dummies(test, columns=[i])\n",
    "    else:\n",
    "        fe = test.groupby(i).size()/len(test)\n",
    "        test.loc[:, i + '_freq_encode'] = test[i].map(fe)\n",
    "\n",
    "\n",
    "# woe_encoder = ce.WOEEncoder(cols=train_cat_list)\n",
    "# woe_encoder.fit(train[train_cat_list], train[\"churn\"])\n",
    "# test_encoded = woe_encoder.transform(test[train_cat_list]).add_suffix('_woe')\n",
    "# test = test.join(test_encoded)\n",
    "\n",
    "    \n",
    "test.head()"
   ]
  },
  {
   "cell_type": "code",
   "execution_count": 34,
   "metadata": {},
   "outputs": [
    {
     "data": {
      "text/html": [
       "<div>\n",
       "<style scoped>\n",
       "    .dataframe tbody tr th:only-of-type {\n",
       "        vertical-align: middle;\n",
       "    }\n",
       "\n",
       "    .dataframe tbody tr th {\n",
       "        vertical-align: top;\n",
       "    }\n",
       "\n",
       "    .dataframe thead th {\n",
       "        text-align: right;\n",
       "    }\n",
       "</style>\n",
       "<table border=\"1\" class=\"dataframe\">\n",
       "  <thead>\n",
       "    <tr style=\"text-align: right;\">\n",
       "      <th></th>\n",
       "      <th>cust_id</th>\n",
       "      <th>Var1</th>\n",
       "      <th>Var2</th>\n",
       "      <th>Var3</th>\n",
       "      <th>Var4</th>\n",
       "      <th>Var5</th>\n",
       "      <th>Var6</th>\n",
       "      <th>Var7</th>\n",
       "      <th>Var8</th>\n",
       "      <th>Var9</th>\n",
       "      <th>...</th>\n",
       "      <th>Var227_ZI9m</th>\n",
       "      <th>Var227_nIGXDli</th>\n",
       "      <th>Var227_nIGjgSB</th>\n",
       "      <th>Var227_vJ_w8kB</th>\n",
       "      <th>Var228_freq_encode</th>\n",
       "      <th>Var229_NAN</th>\n",
       "      <th>Var229_am7c</th>\n",
       "      <th>Var229_mj86</th>\n",
       "      <th>Var229_oJmt</th>\n",
       "      <th>Var229_sk2h</th>\n",
       "    </tr>\n",
       "  </thead>\n",
       "  <tbody>\n",
       "    <tr>\n",
       "      <th>0</th>\n",
       "      <td>1</td>\n",
       "      <td>NaN</td>\n",
       "      <td>NaN</td>\n",
       "      <td>NaN</td>\n",
       "      <td>NaN</td>\n",
       "      <td>NaN</td>\n",
       "      <td>224.0</td>\n",
       "      <td>0.0</td>\n",
       "      <td>NaN</td>\n",
       "      <td>NaN</td>\n",
       "      <td>...</td>\n",
       "      <td>0</td>\n",
       "      <td>0</td>\n",
       "      <td>0</td>\n",
       "      <td>0</td>\n",
       "      <td>0.6489</td>\n",
       "      <td>1</td>\n",
       "      <td>0</td>\n",
       "      <td>0</td>\n",
       "      <td>0</td>\n",
       "      <td>0</td>\n",
       "    </tr>\n",
       "    <tr>\n",
       "      <th>1</th>\n",
       "      <td>2</td>\n",
       "      <td>NaN</td>\n",
       "      <td>NaN</td>\n",
       "      <td>NaN</td>\n",
       "      <td>NaN</td>\n",
       "      <td>NaN</td>\n",
       "      <td>7511.0</td>\n",
       "      <td>7.0</td>\n",
       "      <td>NaN</td>\n",
       "      <td>NaN</td>\n",
       "      <td>...</td>\n",
       "      <td>0</td>\n",
       "      <td>0</td>\n",
       "      <td>0</td>\n",
       "      <td>0</td>\n",
       "      <td>0.0892</td>\n",
       "      <td>0</td>\n",
       "      <td>0</td>\n",
       "      <td>1</td>\n",
       "      <td>0</td>\n",
       "      <td>0</td>\n",
       "    </tr>\n",
       "    <tr>\n",
       "      <th>2</th>\n",
       "      <td>5</td>\n",
       "      <td>NaN</td>\n",
       "      <td>NaN</td>\n",
       "      <td>NaN</td>\n",
       "      <td>NaN</td>\n",
       "      <td>NaN</td>\n",
       "      <td>70.0</td>\n",
       "      <td>0.0</td>\n",
       "      <td>NaN</td>\n",
       "      <td>NaN</td>\n",
       "      <td>...</td>\n",
       "      <td>0</td>\n",
       "      <td>0</td>\n",
       "      <td>0</td>\n",
       "      <td>0</td>\n",
       "      <td>0.6489</td>\n",
       "      <td>1</td>\n",
       "      <td>0</td>\n",
       "      <td>0</td>\n",
       "      <td>0</td>\n",
       "      <td>0</td>\n",
       "    </tr>\n",
       "    <tr>\n",
       "      <th>3</th>\n",
       "      <td>6</td>\n",
       "      <td>NaN</td>\n",
       "      <td>NaN</td>\n",
       "      <td>NaN</td>\n",
       "      <td>NaN</td>\n",
       "      <td>NaN</td>\n",
       "      <td>2863.0</td>\n",
       "      <td>7.0</td>\n",
       "      <td>NaN</td>\n",
       "      <td>NaN</td>\n",
       "      <td>...</td>\n",
       "      <td>0</td>\n",
       "      <td>0</td>\n",
       "      <td>0</td>\n",
       "      <td>0</td>\n",
       "      <td>0.6489</td>\n",
       "      <td>1</td>\n",
       "      <td>0</td>\n",
       "      <td>0</td>\n",
       "      <td>0</td>\n",
       "      <td>0</td>\n",
       "    </tr>\n",
       "    <tr>\n",
       "      <th>4</th>\n",
       "      <td>10</td>\n",
       "      <td>NaN</td>\n",
       "      <td>NaN</td>\n",
       "      <td>NaN</td>\n",
       "      <td>NaN</td>\n",
       "      <td>NaN</td>\n",
       "      <td>770.0</td>\n",
       "      <td>7.0</td>\n",
       "      <td>NaN</td>\n",
       "      <td>NaN</td>\n",
       "      <td>...</td>\n",
       "      <td>0</td>\n",
       "      <td>0</td>\n",
       "      <td>0</td>\n",
       "      <td>0</td>\n",
       "      <td>0.6489</td>\n",
       "      <td>1</td>\n",
       "      <td>0</td>\n",
       "      <td>0</td>\n",
       "      <td>0</td>\n",
       "      <td>0</td>\n",
       "    </tr>\n",
       "  </tbody>\n",
       "</table>\n",
       "<p>5 rows × 382 columns</p>\n",
       "</div>"
      ],
      "text/plain": [
       "   cust_id  Var1  Var2  Var3  Var4  Var5    Var6  Var7  Var8  Var9  ...  \\\n",
       "0        1   NaN   NaN   NaN   NaN   NaN   224.0   0.0   NaN   NaN  ...   \n",
       "1        2   NaN   NaN   NaN   NaN   NaN  7511.0   7.0   NaN   NaN  ...   \n",
       "2        5   NaN   NaN   NaN   NaN   NaN    70.0   0.0   NaN   NaN  ...   \n",
       "3        6   NaN   NaN   NaN   NaN   NaN  2863.0   7.0   NaN   NaN  ...   \n",
       "4       10   NaN   NaN   NaN   NaN   NaN   770.0   7.0   NaN   NaN  ...   \n",
       "\n",
       "   Var227_ZI9m  Var227_nIGXDli  Var227_nIGjgSB  Var227_vJ_w8kB  \\\n",
       "0            0               0               0               0   \n",
       "1            0               0               0               0   \n",
       "2            0               0               0               0   \n",
       "3            0               0               0               0   \n",
       "4            0               0               0               0   \n",
       "\n",
       "   Var228_freq_encode  Var229_NAN  Var229_am7c  Var229_mj86  Var229_oJmt  \\\n",
       "0              0.6489           1            0            0            0   \n",
       "1              0.0892           0            0            1            0   \n",
       "2              0.6489           1            0            0            0   \n",
       "3              0.6489           1            0            0            0   \n",
       "4              0.6489           1            0            0            0   \n",
       "\n",
       "   Var229_sk2h  \n",
       "0            0  \n",
       "1            0  \n",
       "2            0  \n",
       "3            0  \n",
       "4            0  \n",
       "\n",
       "[5 rows x 382 columns]"
      ]
     },
     "execution_count": 34,
     "metadata": {},
     "output_type": "execute_result"
    }
   ],
   "source": [
    "test.head()"
   ]
  },
  {
   "cell_type": "code",
   "execution_count": 35,
   "metadata": {},
   "outputs": [],
   "source": [
    "#create a new flag column for numerical missing values\n",
    "for i in test_num_list:\n",
    "    test[i+\"_num_missing\"] = test[i].isnull()*1"
   ]
  },
  {
   "cell_type": "code",
   "execution_count": 36,
   "metadata": {},
   "outputs": [],
   "source": [
    "#fill numerical missing values with the mean\n",
    "for i in test_num_list:\n",
    "    test[i] = test[i].fillna(test[i].mean())"
   ]
  },
  {
   "cell_type": "code",
   "execution_count": 37,
   "metadata": {},
   "outputs": [],
   "source": [
    "# scaled_test = scaler.fit_transform(test[test_num_list])\n",
    "\n",
    "# scaled_test = pd.DataFrame(scaled_test)\n",
    "\n",
    "# test = test.join(scaled_test)"
   ]
  },
  {
   "cell_type": "code",
   "execution_count": 38,
   "metadata": {},
   "outputs": [],
   "source": [
    "# test = test.drop(columns = test_num_list, axis = 1)\n",
    "\n",
    "# # train.head()"
   ]
  },
  {
   "cell_type": "code",
   "execution_count": 39,
   "metadata": {},
   "outputs": [],
   "source": [
    "#drop all categorical columns to make sure only numbers remain\n",
    "for i in train.columns:\n",
    "    if train[i].dtypes == object:\n",
    "        train = train.drop(columns = i, axis = 1)"
   ]
  },
  {
   "cell_type": "code",
   "execution_count": 40,
   "metadata": {},
   "outputs": [],
   "source": [
    "#drop all categorical columns to make sure only numbers remain\n",
    "for i in test.columns:\n",
    "    if test[i].dtypes == object:\n",
    "        test = test.drop(columns = i, axis = 1)"
   ]
  },
  {
   "cell_type": "code",
   "execution_count": 41,
   "metadata": {},
   "outputs": [
    {
     "data": {
      "text/plain": [
       "0"
      ]
     },
     "execution_count": 41,
     "metadata": {},
     "output_type": "execute_result"
    }
   ],
   "source": [
    "train.isna().sum().sum()"
   ]
  },
  {
   "cell_type": "code",
   "execution_count": 42,
   "metadata": {},
   "outputs": [
    {
     "data": {
      "text/plain": [
       "cust_id               0\n",
       "Var1                  0\n",
       "Var2                  0\n",
       "Var3                  0\n",
       "Var4                  0\n",
       "                     ..\n",
       "Var188_num_missing    0\n",
       "Var189_num_missing    0\n",
       "Var190_num_missing    0\n",
       "Var209_num_missing    0\n",
       "Var230_num_missing    0\n",
       "Length: 556, dtype: int64"
      ]
     },
     "execution_count": 42,
     "metadata": {},
     "output_type": "execute_result"
    }
   ],
   "source": [
    "test.isna().sum()"
   ]
  },
  {
   "cell_type": "code",
   "execution_count": 43,
   "metadata": {},
   "outputs": [],
   "source": [
    "train.to_csv(\"SML_Basetable_TH.csv\", index = False)"
   ]
  },
  {
   "cell_type": "code",
   "execution_count": 44,
   "metadata": {},
   "outputs": [
    {
     "data": {
      "text/plain": [
       "192"
      ]
     },
     "execution_count": 44,
     "metadata": {},
     "output_type": "execute_result"
    }
   ],
   "source": [
    "#making sure that both train and test contain the same columns for modelling\n",
    "common_col = []\n",
    "\n",
    "for i in train.columns.to_list():\n",
    "    if i in test.columns.to_list():\n",
    "        common_col.append(i)\n",
    "\n",
    "len(common_col)"
   ]
  },
  {
   "cell_type": "code",
   "execution_count": 45,
   "metadata": {},
   "outputs": [
    {
     "data": {
      "text/plain": [
       "0"
      ]
     },
     "execution_count": 45,
     "metadata": {},
     "output_type": "execute_result"
    }
   ],
   "source": [
    "test[common_col].isna().sum().sum()"
   ]
  },
  {
   "cell_type": "code",
   "execution_count": 46,
   "metadata": {},
   "outputs": [
    {
     "name": "stdout",
     "output_type": "stream",
     "text": [
      "cust_id - p-value = 0.43382138755046984 - selected : 0\n",
      "Var6 - p-value = 0.026787560488591457 - selected : 1\n",
      "Var7 - p-value = 2.9446351204956152e-09 - selected : 1\n",
      "Var13 - p-value = 9.244674809826891e-05 - selected : 1\n",
      "Var21 - p-value = 0.15691730719523755 - selected : 0\n",
      "Var22 - p-value = 0.15591122751744743 - selected : 0\n",
      "Var24 - p-value = 0.11882693545522402 - selected : 0\n",
      "Var25 - p-value = 0.23178990481542838 - selected : 0\n",
      "Var28 - p-value = 0.01841700829388162 - selected : 1\n",
      "Var35 - p-value = 0.14236097004596637 - selected : 0\n",
      "Var38 - p-value = 0.8079922268047642 - selected : 0\n",
      "Var44 - p-value = 0.5262875914950156 - selected : 0\n",
      "Var57 - p-value = 0.19220230426472 - selected : 0\n",
      "Var65 - p-value = 2.1569957054937154e-06 - selected : 1\n",
      "Var73 - p-value = 1.9871058074602805e-13 - selected : 1\n",
      "Var74 - p-value = 0.03671403274926018 - selected : 1\n",
      "Var76 - p-value = 0.5300211088665642 - selected : 0\n",
      "Var78 - p-value = 0.08833532232556589 - selected : 0\n",
      "Var81 - p-value = 0.0047065958886615905 - selected : 1\n",
      "Var83 - p-value = 0.4007524718550707 - selected : 0\n",
      "Var85 - p-value = 0.3159889474455726 - selected : 0\n",
      "Var109 - p-value = 0.08108998323703379 - selected : 0\n",
      "Var112 - p-value = 0.0708905285218731 - selected : 0\n",
      "Var113 - p-value = 4.515711034049983e-08 - selected : 1\n",
      "Var119 - p-value = 0.06788967584837848 - selected : 0\n",
      "Var123 - p-value = 0.43532671346429264 - selected : 0\n",
      "Var125 - p-value = 0.03403213384675014 - selected : 1\n",
      "Var126 - p-value = 0.002204543856203959 - selected : 1\n",
      "Var132 - p-value = 0.034456792527093404 - selected : 1\n",
      "Var133 - p-value = 0.4051067530486985 - selected : 0\n",
      "Var134 - p-value = 0.00879207193979199 - selected : 1\n",
      "Var140 - p-value = 0.002871271666162823 - selected : 1\n",
      "Var143 - p-value = 0.056474346174787325 - selected : 0\n",
      "Var144 - p-value = 0.00013130637245639286 - selected : 1\n",
      "Var149 - p-value = 0.968965293408875 - selected : 0\n",
      "Var153 - p-value = 0.24494729103269927 - selected : 0\n",
      "Var160 - p-value = 0.09018566338826838 - selected : 0\n",
      "Var163 - p-value = 0.33128502485722505 - selected : 0\n",
      "Var173 - p-value = 0.002712110351842407 - selected : 1\n",
      "Var181 - p-value = 0.44944477870984645 - selected : 0\n",
      "Var192_cat_missing - p-value = 0.023013566651223696 - selected : 1\n",
      "Var193_cat_missing - p-value = nan - selected : 0\n",
      "Var195_cat_missing - p-value = nan - selected : 0\n",
      "Var196_cat_missing - p-value = nan - selected : 0\n",
      "Var197_cat_missing - p-value = 0.4420499596679953 - selected : 0\n",
      "Var198_cat_missing - p-value = nan - selected : 0\n",
      "Var199_cat_missing - p-value = 0.00038719494113099024 - selected : 1\n",
      "Var202_cat_missing - p-value = nan - selected : 0\n",
      "Var203_cat_missing - p-value = 0.4420499596679953 - selected : 0\n",
      "Var204_cat_missing - p-value = nan - selected : 0\n",
      "Var205_cat_missing - p-value = 0.1741341288991012 - selected : 0\n",
      "Var206_cat_missing - p-value = 0.0849207785409343 - selected : 0\n",
      "Var207_cat_missing - p-value = nan - selected : 0\n",
      "Var208_cat_missing - p-value = 0.4420499596679953 - selected : 0\n",
      "Var210_cat_missing - p-value = nan - selected : 0\n",
      "Var211_cat_missing - p-value = nan - selected : 0\n",
      "Var212_cat_missing - p-value = nan - selected : 0\n",
      "Var216_cat_missing - p-value = nan - selected : 0\n",
      "Var217_cat_missing - p-value = 3.025721472938685e-27 - selected : 1\n",
      "Var218_cat_missing - p-value = 3.025721472938685e-27 - selected : 1\n",
      "Var219_cat_missing - p-value = 0.8438675884372266 - selected : 0\n",
      "Var220_cat_missing - p-value = nan - selected : 0\n",
      "Var221_cat_missing - p-value = nan - selected : 0\n",
      "Var222_cat_missing - p-value = nan - selected : 0\n",
      "Var223_cat_missing - p-value = 0.8438675884372266 - selected : 0\n",
      "Var226_cat_missing - p-value = nan - selected : 0\n",
      "Var227_cat_missing - p-value = nan - selected : 0\n",
      "Var228_cat_missing - p-value = nan - selected : 0\n",
      "Var192_freq_encode - p-value = 0.003286739860518136 - selected : 1\n",
      "Var193_freq_encode - p-value = 2.3778177335033493e-09 - selected : 1\n",
      "Var196_1K8T - p-value = 0.403272971715436 - selected : 0\n",
      "Var196_JA1C - p-value = 0.2789938574135589 - selected : 0\n",
      "Var196_z3mO - p-value = 0.27666873746766196 - selected : 0\n",
      "Var197_freq_encode - p-value = 0.0001091948853216692 - selected : 1\n",
      "Var198_freq_encode - p-value = 5.8848885659627835e-06 - selected : 1\n",
      "Var199_freq_encode - p-value = 5.394565337666931e-06 - selected : 1\n",
      "Var202_freq_encode - p-value = 1.3121028174439264e-06 - selected : 1\n",
      "Var203_9_Y1 - p-value = 0.005897400277167251 - selected : 1\n",
      "Var203_F3hy - p-value = 0.00603392615921009 - selected : 1\n",
      "Var203_HLqf - p-value = 0.10425758250397421 - selected : 0\n",
      "Var203_NAN - p-value = 0.4420499596679953 - selected : 0\n",
      "Var204_freq_encode - p-value = 0.8311260741813253 - selected : 0\n",
      "Var205_09_Q - p-value = 0.11611417997694408 - selected : 0\n",
      "Var205_NAN - p-value = 0.1741341288991012 - selected : 0\n",
      "Var205_VpdQ - p-value = 0.00019654517581700303 - selected : 1\n",
      "Var205_sJzTlal - p-value = 1.4921819897257564e-14 - selected : 1\n",
      "Var206_freq_encode - p-value = 2.4535315234957242e-05 - selected : 1\n",
      "Var207_0MCPoln - p-value = 0.7780635661340817 - selected : 0\n",
      "Var207_15TtzZrRt2 - p-value = 0.2789938574134335 - selected : 0\n",
      "Var207_5iay - p-value = 0.3286220572708516 - selected : 0\n",
      "Var207_6C53VA1kCv - p-value = 0.1668491408946151 - selected : 0\n",
      "Var207_7M47J5GA0pTYIFxg5uy - p-value = 0.00040889006185293263 - selected : 1\n",
      "Var207_DHn_WUyBhW_whjA88g9bvA64_ - p-value = 0.06114902360454329 - selected : 0\n",
      "Var207_EBKcR3s6B22tD6gC36gm6S - p-value = 0.5729073997168853 - selected : 0\n",
      "Var207_GjJ35utlTa_GNSvxxpb9ju - p-value = 0.9065257577585555 - selected : 0\n",
      "Var207_Kxdu - p-value = 0.07858878589813553 - selected : 0\n",
      "Var207_NKv3VA1BpP - p-value = 0.24347986132144883 - selected : 0\n",
      "Var207_me75fM6ugJ - p-value = 4.594078457248568e-07 - selected : 1\n",
      "Var207_wXfldy7 - p-value = 0.7780635661337223 - selected : 0\n",
      "Var208_NAN - p-value = 0.4420499596679953 - selected : 0\n",
      "Var208_kIsH - p-value = 0.12887665509220375 - selected : 0\n",
      "Var208_sBgB - p-value = 0.08974837304283825 - selected : 0\n",
      "Var210_3av_ - p-value = 0.34965674778475053 - selected : 0\n",
      "Var210_7A3j - p-value = 0.3713627829502059 - selected : 0\n",
      "Var210_DM_V - p-value = 0.08044950122003597 - selected : 0\n",
      "Var210_g5HH - p-value = 7.803335000741763e-08 - selected : 1\n",
      "Var210_oT7d - p-value = 0.23653322672978225 - selected : 0\n",
      "Var210_uKAI - p-value = 7.407451260906158e-08 - selected : 1\n",
      "Var211_L84s - p-value = 0.05619332319290638 - selected : 0\n",
      "Var211_Mtgm - p-value = 0.05619332319290638 - selected : 0\n",
      "Var212_freq_encode - p-value = 6.738299804293159e-13 - selected : 1\n",
      "Var216_freq_encode - p-value = 0.17788163120591538 - selected : 0\n",
      "Var217_freq_encode - p-value = 1.3282969925679899e-31 - selected : 1\n",
      "Var218_NAN - p-value = 3.025721472938685e-27 - selected : 1\n",
      "Var218_UYBR - p-value = 0.0024654275371754136 - selected : 1\n",
      "Var218_cJvF - p-value = 2.9567876738372246e-08 - selected : 1\n",
      "Var219_49W0rUY - p-value = 0.7780635661337223 - selected : 0\n",
      "Var219_AU8OvAe - p-value = 0.7780635661337223 - selected : 0\n",
      "Var219_AU8_WTd - p-value = 0.5162334749192248 - selected : 0\n",
      "Var219_AU8ltHK - p-value = 0.020909038752899747 - selected : 1\n",
      "Var219_AU8pNoi - p-value = 0.4568956794455271 - selected : 0\n",
      "Var219_FQHxeR8 - p-value = 0.7780635661337223 - selected : 0\n",
      "Var219_FqMWi1g - p-value = 0.08488281383266665 - selected : 0\n",
      "Var219_FzaX - p-value = 0.4557199923108831 - selected : 0\n",
      "Var219_Lmli - p-value = 0.7835141713970891 - selected : 0\n",
      "Var219_NAN - p-value = 0.8438675884372266 - selected : 0\n",
      "Var219_OFWH - p-value = 0.8322613519641358 - selected : 0\n",
      "Var219_qxDb - p-value = 0.4526461696074204 - selected : 0\n",
      "Var219_tdJW_Pm - p-value = 0.43074035158562807 - selected : 0\n",
      "Var219_wwPEXoilkr - p-value = 0.1539936621983086 - selected : 0\n",
      "Var219_ylgWTXl - p-value = 0.5284641907294673 - selected : 0\n",
      "Var220_freq_encode - p-value = 5.8848885659627835e-06 - selected : 1\n",
      "Var221_Al6ZaUT - p-value = 0.4187156066975067 - selected : 0\n",
      "Var221_JIiEFBU - p-value = 0.11028284447909756 - selected : 0\n",
      "Var221_QKW8DRm - p-value = 0.3358988259892013 - selected : 0\n",
      "Var221_d0EEeJi - p-value = 0.01183742503541849 - selected : 1\n",
      "Var221_oslk - p-value = 9.305589060396407e-07 - selected : 1\n",
      "Var221_z4pH - p-value = 0.5920414867777605 - selected : 0\n",
      "Var221_zCkv - p-value = 1.021951764989539e-05 - selected : 1\n",
      "Var222_freq_encode - p-value = 5.8848885659627835e-06 - selected : 1\n",
      "Var223_LM8l689qOp - p-value = 0.8856539536778395 - selected : 0\n",
      "Var223_M_8D - p-value = 0.04083362859424726 - selected : 1\n",
      "Var223_NAN - p-value = 0.8438675884372266 - selected : 0\n",
      "Var223_bCPvVye - p-value = 0.20957244677514864 - selected : 0\n",
      "Var223_jySVZNlOJy - p-value = 0.31083749433993657 - selected : 0\n",
      "Var226_freq_encode - p-value = 0.3434368061627453 - selected : 0\n",
      "Var227_02N6s8f - p-value = 0.3014618968850256 - selected : 0\n",
      "Var227_6fzt - p-value = 0.012807530784467067 - selected : 1\n",
      "Var227_RAYp - p-value = 6.550485154079728e-07 - selected : 1\n",
      "Var227_ZI9m - p-value = 5.644611152741993e-05 - selected : 1\n",
      "Var227_nIGXDli - p-value = 0.2587353754927491 - selected : 0\n",
      "Var227_nIGjgSB - p-value = 0.2789938574135589 - selected : 0\n",
      "Var227_vJ_w8kB - p-value = 0.3506860738849462 - selected : 0\n",
      "Var228_freq_encode - p-value = 8.817789346486834e-11 - selected : 1\n",
      "Var6_num_missing - p-value = 0.0849207785409343 - selected : 0\n",
      "Var7_num_missing - p-value = 0.17046967315787404 - selected : 0\n",
      "Var13_num_missing - p-value = 0.17046967315787404 - selected : 0\n",
      "Var21_num_missing - p-value = 0.0849207785409343 - selected : 0\n",
      "Var22_num_missing - p-value = 0.11621523065205044 - selected : 0\n",
      "Var24_num_missing - p-value = 0.9758046857350103 - selected : 0\n",
      "Var25_num_missing - p-value = 0.11621523065205044 - selected : 0\n",
      "Var28_num_missing - p-value = 0.11621523065205044 - selected : 0\n",
      "Var35_num_missing - p-value = 0.11621523065205044 - selected : 0\n",
      "Var38_num_missing - p-value = 0.11621523065205044 - selected : 0\n",
      "Var44_num_missing - p-value = 0.11621523065205044 - selected : 0\n",
      "Var57_num_missing - p-value = nan - selected : 0\n",
      "Var65_num_missing - p-value = 0.17046967315787404 - selected : 0\n",
      "Var74_num_missing - p-value = 0.17046967315787404 - selected : 0\n",
      "Var76_num_missing - p-value = 0.11621523065205044 - selected : 0\n",
      "Var78_num_missing - p-value = 0.11621523065205044 - selected : 0\n",
      "Var81_num_missing - p-value = 0.0849207785409343 - selected : 0\n",
      "Var83_num_missing - p-value = 0.11621523065205044 - selected : 0\n",
      "Var85_num_missing - p-value = 0.11621523065205044 - selected : 0\n",
      "Var109_num_missing - p-value = 0.9758046857350103 - selected : 0\n",
      "Var112_num_missing - p-value = 0.11621523065205044 - selected : 0\n",
      "Var113_num_missing - p-value = nan - selected : 0\n",
      "Var119_num_missing - p-value = 0.0849207785409343 - selected : 0\n",
      "Var123_num_missing - p-value = 0.11621523065205044 - selected : 0\n",
      "Var125_num_missing - p-value = 0.17046967315787404 - selected : 0\n",
      "Var126_num_missing - p-value = 7.604722155151329e-26 - selected : 1\n",
      "Var132_num_missing - p-value = 0.11621523065205044 - selected : 0\n",
      "Var133_num_missing - p-value = 0.11621523065205044 - selected : 0\n",
      "Var134_num_missing - p-value = 0.11621523065205044 - selected : 0\n",
      "Var140_num_missing - p-value = 0.17046967315787404 - selected : 0\n",
      "Var143_num_missing - p-value = 0.11621523065205044 - selected : 0\n",
      "Var144_num_missing - p-value = 0.0849207785409343 - selected : 0\n",
      "Var149_num_missing - p-value = 0.9758046857350103 - selected : 0\n",
      "Var153_num_missing - p-value = 0.11621523065205044 - selected : 0\n",
      "Var160_num_missing - p-value = 0.11621523065205044 - selected : 0\n",
      "Var163_num_missing - p-value = 0.11621523065205044 - selected : 0\n",
      "Var173_num_missing - p-value = 0.11621523065205044 - selected : 0\n",
      "Var181_num_missing - p-value = 0.11621523065205044 - selected : 0\n"
     ]
    },
    {
     "name": "stderr",
     "output_type": "stream",
     "text": [
      "C:\\Anaconda3\\lib\\site-packages\\scipy\\stats\\stats.py:3508: PearsonRConstantInputWarning: An input array is constant; the correlation coefficent is not defined.\n",
      "  warnings.warn(PearsonRConstantInputWarning())\n"
     ]
    }
   ],
   "source": [
    "#feature selection loop\n",
    "\n",
    "lgb_feature = []\n",
    "target = 'churn'\n",
    "\n",
    "for i in common_col:\n",
    "        (pearson,pvalue) = pearsonr(train[i], train[target])\n",
    "        print(f\"{i} - p-value = {pvalue} - selected : {1 if pvalue < 0.05 else 0}\")\n",
    "        if pvalue < 0.04:\n",
    "            lgb_feature.append(i)"
   ]
  },
  {
   "cell_type": "code",
   "execution_count": 47,
   "metadata": {},
   "outputs": [
    {
     "name": "stdout",
     "output_type": "stream",
     "text": [
      "51 selected features\n"
     ]
    }
   ],
   "source": [
    "print(str(len(lgb_feature)), 'selected features')"
   ]
  },
  {
   "cell_type": "code",
   "execution_count": 48,
   "metadata": {},
   "outputs": [
    {
     "name": "stdout",
     "output_type": "stream",
     "text": [
      "['Var6', 'Var7', 'Var13', 'Var28', 'Var65', 'Var73', 'Var74', 'Var81', 'Var113', 'Var125', 'Var126', 'Var132', 'Var134', 'Var140', 'Var144', 'Var173', 'Var192_cat_missing', 'Var199_cat_missing', 'Var217_cat_missing', 'Var218_cat_missing', 'Var192_freq_encode', 'Var193_freq_encode', 'Var197_freq_encode', 'Var198_freq_encode', 'Var199_freq_encode', 'Var202_freq_encode', 'Var203_9_Y1', 'Var203_F3hy', 'Var205_VpdQ', 'Var205_sJzTlal', 'Var206_freq_encode', 'Var207_7M47J5GA0pTYIFxg5uy', 'Var207_me75fM6ugJ', 'Var210_g5HH', 'Var210_uKAI', 'Var212_freq_encode', 'Var217_freq_encode', 'Var218_NAN', 'Var218_UYBR', 'Var218_cJvF', 'Var219_AU8ltHK', 'Var220_freq_encode', 'Var221_d0EEeJi', 'Var221_oslk', 'Var221_zCkv', 'Var222_freq_encode', 'Var227_6fzt', 'Var227_RAYp', 'Var227_ZI9m', 'Var228_freq_encode', 'Var126_num_missing']\n"
     ]
    }
   ],
   "source": [
    "print(lgb_feature)"
   ]
  },
  {
   "cell_type": "code",
   "execution_count": 49,
   "metadata": {},
   "outputs": [],
   "source": [
    "target = \"churn\"\n",
    "\n",
    "X_train, X_test, y_train, y_test = train_test_split(train[lgb_feature], train[target], test_size=0.2,\n",
    "                                                    random_state=42)"
   ]
  },
  {
   "cell_type": "code",
   "execution_count": 50,
   "metadata": {},
   "outputs": [
    {
     "name": "stderr",
     "output_type": "stream",
     "text": [
      "C:\\Anaconda3\\lib\\site-packages\\sklearn\\linear_model\\_logistic.py:762: ConvergenceWarning: lbfgs failed to converge (status=1):\n",
      "STOP: TOTAL NO. of ITERATIONS REACHED LIMIT.\n",
      "\n",
      "Increase the number of iterations (max_iter) or scale the data as shown in:\n",
      "    https://scikit-learn.org/stable/modules/preprocessing.html\n",
      "Please also refer to the documentation for alternative solver options:\n",
      "    https://scikit-learn.org/stable/modules/linear_model.html#logistic-regression\n",
      "  n_iter_i = _check_optimize_result(\n"
     ]
    }
   ],
   "source": [
    "logreg = LogisticRegression(random_state=0).fit(X_train, y_train)"
   ]
  },
  {
   "cell_type": "code",
   "execution_count": 51,
   "metadata": {
    "scrolled": true
   },
   "outputs": [
    {
     "name": "stderr",
     "output_type": "stream",
     "text": [
      "C:\\Anaconda3\\lib\\site-packages\\sklearn\\linear_model\\_logistic.py:762: ConvergenceWarning: lbfgs failed to converge (status=1):\n",
      "STOP: TOTAL NO. of ITERATIONS REACHED LIMIT.\n",
      "\n",
      "Increase the number of iterations (max_iter) or scale the data as shown in:\n",
      "    https://scikit-learn.org/stable/modules/preprocessing.html\n",
      "Please also refer to the documentation for alternative solver options:\n",
      "    https://scikit-learn.org/stable/modules/linear_model.html#logistic-regression\n",
      "  n_iter_i = _check_optimize_result(\n",
      "C:\\Anaconda3\\lib\\site-packages\\sklearn\\linear_model\\_logistic.py:762: ConvergenceWarning: lbfgs failed to converge (status=1):\n",
      "STOP: TOTAL NO. of ITERATIONS REACHED LIMIT.\n",
      "\n",
      "Increase the number of iterations (max_iter) or scale the data as shown in:\n",
      "    https://scikit-learn.org/stable/modules/preprocessing.html\n",
      "Please also refer to the documentation for alternative solver options:\n",
      "    https://scikit-learn.org/stable/modules/linear_model.html#logistic-regression\n",
      "  n_iter_i = _check_optimize_result(\n",
      "C:\\Anaconda3\\lib\\site-packages\\sklearn\\linear_model\\_logistic.py:762: ConvergenceWarning: lbfgs failed to converge (status=1):\n",
      "STOP: TOTAL NO. of ITERATIONS REACHED LIMIT.\n",
      "\n",
      "Increase the number of iterations (max_iter) or scale the data as shown in:\n",
      "    https://scikit-learn.org/stable/modules/preprocessing.html\n",
      "Please also refer to the documentation for alternative solver options:\n",
      "    https://scikit-learn.org/stable/modules/linear_model.html#logistic-regression\n",
      "  n_iter_i = _check_optimize_result(\n",
      "C:\\Anaconda3\\lib\\site-packages\\sklearn\\linear_model\\_logistic.py:762: ConvergenceWarning: lbfgs failed to converge (status=1):\n",
      "STOP: TOTAL NO. of ITERATIONS REACHED LIMIT.\n",
      "\n",
      "Increase the number of iterations (max_iter) or scale the data as shown in:\n",
      "    https://scikit-learn.org/stable/modules/preprocessing.html\n",
      "Please also refer to the documentation for alternative solver options:\n",
      "    https://scikit-learn.org/stable/modules/linear_model.html#logistic-regression\n",
      "  n_iter_i = _check_optimize_result(\n",
      "C:\\Anaconda3\\lib\\site-packages\\sklearn\\linear_model\\_logistic.py:762: ConvergenceWarning: lbfgs failed to converge (status=1):\n",
      "STOP: TOTAL NO. of ITERATIONS REACHED LIMIT.\n",
      "\n",
      "Increase the number of iterations (max_iter) or scale the data as shown in:\n",
      "    https://scikit-learn.org/stable/modules/preprocessing.html\n",
      "Please also refer to the documentation for alternative solver options:\n",
      "    https://scikit-learn.org/stable/modules/linear_model.html#logistic-regression\n",
      "  n_iter_i = _check_optimize_result(\n",
      "C:\\Anaconda3\\lib\\site-packages\\sklearn\\linear_model\\_logistic.py:762: ConvergenceWarning: lbfgs failed to converge (status=1):\n",
      "STOP: TOTAL NO. of ITERATIONS REACHED LIMIT.\n",
      "\n",
      "Increase the number of iterations (max_iter) or scale the data as shown in:\n",
      "    https://scikit-learn.org/stable/modules/preprocessing.html\n",
      "Please also refer to the documentation for alternative solver options:\n",
      "    https://scikit-learn.org/stable/modules/linear_model.html#logistic-regression\n",
      "  n_iter_i = _check_optimize_result(\n",
      "C:\\Anaconda3\\lib\\site-packages\\sklearn\\linear_model\\_logistic.py:762: ConvergenceWarning: lbfgs failed to converge (status=1):\n",
      "STOP: TOTAL NO. of ITERATIONS REACHED LIMIT.\n",
      "\n",
      "Increase the number of iterations (max_iter) or scale the data as shown in:\n",
      "    https://scikit-learn.org/stable/modules/preprocessing.html\n",
      "Please also refer to the documentation for alternative solver options:\n",
      "    https://scikit-learn.org/stable/modules/linear_model.html#logistic-regression\n",
      "  n_iter_i = _check_optimize_result(\n",
      "C:\\Anaconda3\\lib\\site-packages\\sklearn\\linear_model\\_logistic.py:762: ConvergenceWarning: lbfgs failed to converge (status=1):\n",
      "STOP: TOTAL NO. of ITERATIONS REACHED LIMIT.\n",
      "\n",
      "Increase the number of iterations (max_iter) or scale the data as shown in:\n",
      "    https://scikit-learn.org/stable/modules/preprocessing.html\n",
      "Please also refer to the documentation for alternative solver options:\n",
      "    https://scikit-learn.org/stable/modules/linear_model.html#logistic-regression\n",
      "  n_iter_i = _check_optimize_result(\n",
      "C:\\Anaconda3\\lib\\site-packages\\sklearn\\linear_model\\_logistic.py:762: ConvergenceWarning: lbfgs failed to converge (status=1):\n",
      "STOP: TOTAL NO. of ITERATIONS REACHED LIMIT.\n",
      "\n",
      "Increase the number of iterations (max_iter) or scale the data as shown in:\n",
      "    https://scikit-learn.org/stable/modules/preprocessing.html\n",
      "Please also refer to the documentation for alternative solver options:\n",
      "    https://scikit-learn.org/stable/modules/linear_model.html#logistic-regression\n",
      "  n_iter_i = _check_optimize_result(\n",
      "C:\\Anaconda3\\lib\\site-packages\\sklearn\\linear_model\\_logistic.py:762: ConvergenceWarning: lbfgs failed to converge (status=1):\n",
      "STOP: TOTAL NO. of ITERATIONS REACHED LIMIT.\n",
      "\n",
      "Increase the number of iterations (max_iter) or scale the data as shown in:\n",
      "    https://scikit-learn.org/stable/modules/preprocessing.html\n",
      "Please also refer to the documentation for alternative solver options:\n",
      "    https://scikit-learn.org/stable/modules/linear_model.html#logistic-regression\n",
      "  n_iter_i = _check_optimize_result(\n"
     ]
    },
    {
     "data": {
      "text/plain": [
       "0.5660998444876479"
      ]
     },
     "execution_count": 51,
     "metadata": {},
     "output_type": "execute_result"
    }
   ],
   "source": [
    "crossval_scores = cross_val_score(logreg, train[lgb_feature], train[target], scoring='roc_auc', cv=10)\n",
    "crossval_scores.mean()"
   ]
  },
  {
   "cell_type": "code",
   "execution_count": 52,
   "metadata": {},
   "outputs": [
    {
     "name": "stderr",
     "output_type": "stream",
     "text": [
      "C:\\Anaconda3\\lib\\site-packages\\sklearn\\linear_model\\_logistic.py:762: ConvergenceWarning: lbfgs failed to converge (status=1):\n",
      "STOP: TOTAL NO. of ITERATIONS REACHED LIMIT.\n",
      "\n",
      "Increase the number of iterations (max_iter) or scale the data as shown in:\n",
      "    https://scikit-learn.org/stable/modules/preprocessing.html\n",
      "Please also refer to the documentation for alternative solver options:\n",
      "    https://scikit-learn.org/stable/modules/linear_model.html#logistic-regression\n",
      "  n_iter_i = _check_optimize_result(\n"
     ]
    }
   ],
   "source": [
    "logreg = LogisticRegression(max_iter=1000, random_state=0).fit(X_train, y_train)"
   ]
  },
  {
   "cell_type": "code",
   "execution_count": 53,
   "metadata": {},
   "outputs": [
    {
     "name": "stdout",
     "output_type": "stream",
     "text": [
      "No Skill: ROC AUC=0.500\n",
      "Logistic: ROC AUC=0.595\n"
     ]
    },
    {
     "data": {
      "image/png": "[encoded data removed]",
      "text/plain": [
       "<Figure size 1080x720 with 1 Axes>"
      ]
     },
     "metadata": {
      "needs_background": "light"
     },
     "output_type": "display_data"
    }
   ],
   "source": [
    "ns_probs = [0 for _ in range(len(y_test))]\n",
    "proba = logreg.predict_proba(X_test)\n",
    "# keep probabilities for the positive outcome only\n",
    "lr_probs = proba[:, 1]\n",
    "# calculate scores\n",
    "ns_auc = roc_auc_score(y_test, ns_probs)\n",
    "lr_auc = roc_auc_score(y_test, lr_probs)\n",
    "# summarize scores\n",
    "print('No Skill: ROC AUC=%.3f' % (ns_auc))\n",
    "print('Logistic: ROC AUC=%.3f' % (lr_auc))\n",
    "# calculate roc curves\n",
    "ns_fpr, ns_tpr, _ = roc_curve(y_test, ns_probs)\n",
    "lr_fpr, lr_tpr, _ = roc_curve(y_test, lr_probs)\n",
    "# plot the roc curve for the model\n",
    "f, axes = plt.subplots(figsize=(15, 10))\n",
    "plt.plot(ns_fpr, ns_tpr, linestyle='--', label='No Skill')\n",
    "plt.plot(lr_fpr, lr_tpr, marker='.', label='Logistic')\n",
    "# axis labels\n",
    "plt.xlabel('False Positive Rate')\n",
    "plt.ylabel('True Positive Rate')\n",
    "# show the legend\n",
    "plt.legend()\n",
    "# show the plot\n",
    "plt.title('ROC AUC Score on the test set of our model')\n",
    "plt.show()"
   ]
  },
  {
   "cell_type": "code",
   "execution_count": 54,
   "metadata": {},
   "outputs": [],
   "source": [
    "bestparamsLGB = {\"max_bin\" : [20,30, 40], \"learning_rate\" : [0.05], \"num_iterations\" : [500,750, 1000], \\\n",
    "             \"num_leaves\": [6,8, 10], \"bagging_fraction\" : [0,5, 0,7, 0.9], \"feature_fraction\": [0.35], \"min_data_in_leaf\" : [25], \\\n",
    "             \"min_sum_hessian_in_leaf\" : [10,25, 40], \"max_depth\" : [5,7,9]}"
   ]
  },
  {
   "cell_type": "code",
   "execution_count": 55,
   "metadata": {},
   "outputs": [
    {
     "name": "stdout",
     "output_type": "stream",
     "text": [
      "Fitting 3 folds for each of 1215 candidates, totalling 3645 fits\n"
     ]
    },
    {
     "name": "stderr",
     "output_type": "stream",
     "text": [
      "[Parallel(n_jobs=-1)]: Using backend LokyBackend with 8 concurrent workers.\n",
      "[Parallel(n_jobs=-1)]: Done  25 tasks      | elapsed:    4.9s\n",
      "[Parallel(n_jobs=-1)]: Done 672 tasks      | elapsed:    7.2s\n",
      "[Parallel(n_jobs=-1)]: Done 2296 tasks      | elapsed:   12.0s\n",
      "[Parallel(n_jobs=-1)]: Done 3272 tasks      | elapsed:  1.5min\n",
      "[Parallel(n_jobs=-1)]: Done 3645 out of 3645 | elapsed:  2.9min finished\n",
      "C:\\Anaconda3\\lib\\site-packages\\lightgbm\\engine.py:151: UserWarning: Found `num_iterations` in params. Will use it instead of argument\n",
      "  warnings.warn(\"Found `{}` in params. Will use it instead of argument\".format(alias))\n"
     ]
    },
    {
     "name": "stdout",
     "output_type": "stream",
     "text": [
      "[LightGBM] [Warning] feature_fraction is set=0.35, colsample_bytree=1.0 will be ignored. Current value: feature_fraction=0.35\n",
      "[LightGBM] [Warning] min_data_in_leaf is set=25, min_child_samples=20 will be ignored. Current value: min_data_in_leaf=25\n",
      "[LightGBM] [Warning] min_sum_hessian_in_leaf is set=10, min_child_weight=0.001 will be ignored. Current value: min_sum_hessian_in_leaf=10\n",
      "[LightGBM] [Warning] bagging_fraction is set=0.9, subsample=1.0 will be ignored. Current value: bagging_fraction=0.9\n"
     ]
    }
   ],
   "source": [
    "clf = GridSearchCV(lightgbm.LGBMClassifier(), param_grid = bestparamsLGB, n_jobs=-1, scoring = 'roc_auc',cv=3, verbose = 2)\n",
    "clf.fit(X=X_train, y=y_train)\n",
    "LGBModel = clf.best_estimator_"
   ]
  },
  {
   "cell_type": "code",
   "execution_count": 56,
   "metadata": {},
   "outputs": [
    {
     "data": {
      "text/plain": [
       "LGBMClassifier(bagging_fraction=0.9, feature_fraction=0.35, learning_rate=0.05,\n",
       "               max_bin=20, max_depth=5, min_data_in_leaf=25,\n",
       "               min_sum_hessian_in_leaf=10, num_iterations=500, num_leaves=6)"
      ]
     },
     "execution_count": 56,
     "metadata": {},
     "output_type": "execute_result"
    }
   ],
   "source": [
    "clf.best_estimator_"
   ]
  },
  {
   "cell_type": "code",
   "execution_count": 57,
   "metadata": {},
   "outputs": [
    {
     "name": "stderr",
     "output_type": "stream",
     "text": [
      "C:\\Anaconda3\\lib\\site-packages\\lightgbm\\engine.py:151: UserWarning: Found `num_iterations` in params. Will use it instead of argument\n",
      "  warnings.warn(\"Found `{}` in params. Will use it instead of argument\".format(alias))\n",
      "C:\\Anaconda3\\lib\\site-packages\\lightgbm\\engine.py:151: UserWarning: Found `num_iterations` in params. Will use it instead of argument\n",
      "  warnings.warn(\"Found `{}` in params. Will use it instead of argument\".format(alias))\n"
     ]
    },
    {
     "name": "stdout",
     "output_type": "stream",
     "text": [
      "[LightGBM] [Warning] feature_fraction is set=0.35, colsample_bytree=1.0 will be ignored. Current value: feature_fraction=0.35\n",
      "[LightGBM] [Warning] min_data_in_leaf is set=25, min_child_samples=20 will be ignored. Current value: min_data_in_leaf=25\n",
      "[LightGBM] [Warning] min_sum_hessian_in_leaf is set=10, min_child_weight=0.001 will be ignored. Current value: min_sum_hessian_in_leaf=10\n",
      "[LightGBM] [Warning] bagging_fraction is set=0.9, subsample=1.0 will be ignored. Current value: bagging_fraction=0.9\n"
     ]
    },
    {
     "name": "stderr",
     "output_type": "stream",
     "text": [
      "C:\\Anaconda3\\lib\\site-packages\\lightgbm\\engine.py:151: UserWarning: Found `num_iterations` in params. Will use it instead of argument\n",
      "  warnings.warn(\"Found `{}` in params. Will use it instead of argument\".format(alias))\n"
     ]
    },
    {
     "name": "stdout",
     "output_type": "stream",
     "text": [
      "[LightGBM] [Warning] feature_fraction is set=0.35, colsample_bytree=1.0 will be ignored. Current value: feature_fraction=0.35\n",
      "[LightGBM] [Warning] min_data_in_leaf is set=25, min_child_samples=20 will be ignored. Current value: min_data_in_leaf=25\n",
      "[LightGBM] [Warning] min_sum_hessian_in_leaf is set=10, min_child_weight=0.001 will be ignored. Current value: min_sum_hessian_in_leaf=10\n",
      "[LightGBM] [Warning] bagging_fraction is set=0.9, subsample=1.0 will be ignored. Current value: bagging_fraction=0.9\n"
     ]
    },
    {
     "name": "stderr",
     "output_type": "stream",
     "text": [
      "C:\\Anaconda3\\lib\\site-packages\\lightgbm\\engine.py:151: UserWarning: Found `num_iterations` in params. Will use it instead of argument\n",
      "  warnings.warn(\"Found `{}` in params. Will use it instead of argument\".format(alias))\n"
     ]
    },
    {
     "name": "stdout",
     "output_type": "stream",
     "text": [
      "[LightGBM] [Warning] feature_fraction is set=0.35, colsample_bytree=1.0 will be ignored. Current value: feature_fraction=0.35\n",
      "[LightGBM] [Warning] min_data_in_leaf is set=25, min_child_samples=20 will be ignored. Current value: min_data_in_leaf=25\n",
      "[LightGBM] [Warning] min_sum_hessian_in_leaf is set=10, min_child_weight=0.001 will be ignored. Current value: min_sum_hessian_in_leaf=10\n",
      "[LightGBM] [Warning] bagging_fraction is set=0.9, subsample=1.0 will be ignored. Current value: bagging_fraction=0.9\n"
     ]
    },
    {
     "name": "stderr",
     "output_type": "stream",
     "text": [
      "C:\\Anaconda3\\lib\\site-packages\\lightgbm\\engine.py:151: UserWarning: Found `num_iterations` in params. Will use it instead of argument\n",
      "  warnings.warn(\"Found `{}` in params. Will use it instead of argument\".format(alias))\n"
     ]
    },
    {
     "name": "stdout",
     "output_type": "stream",
     "text": [
      "[LightGBM] [Warning] feature_fraction is set=0.35, colsample_bytree=1.0 will be ignored. Current value: feature_fraction=0.35\n",
      "[LightGBM] [Warning] min_data_in_leaf is set=25, min_child_samples=20 will be ignored. Current value: min_data_in_leaf=25\n",
      "[LightGBM] [Warning] min_sum_hessian_in_leaf is set=10, min_child_weight=0.001 will be ignored. Current value: min_sum_hessian_in_leaf=10\n",
      "[LightGBM] [Warning] bagging_fraction is set=0.9, subsample=1.0 will be ignored. Current value: bagging_fraction=0.9\n"
     ]
    },
    {
     "name": "stderr",
     "output_type": "stream",
     "text": [
      "C:\\Anaconda3\\lib\\site-packages\\lightgbm\\engine.py:151: UserWarning: Found `num_iterations` in params. Will use it instead of argument\n",
      "  warnings.warn(\"Found `{}` in params. Will use it instead of argument\".format(alias))\n"
     ]
    },
    {
     "name": "stdout",
     "output_type": "stream",
     "text": [
      "[LightGBM] [Warning] feature_fraction is set=0.35, colsample_bytree=1.0 will be ignored. Current value: feature_fraction=0.35\n",
      "[LightGBM] [Warning] min_data_in_leaf is set=25, min_child_samples=20 will be ignored. Current value: min_data_in_leaf=25\n",
      "[LightGBM] [Warning] min_sum_hessian_in_leaf is set=10, min_child_weight=0.001 will be ignored. Current value: min_sum_hessian_in_leaf=10\n",
      "[LightGBM] [Warning] bagging_fraction is set=0.9, subsample=1.0 will be ignored. Current value: bagging_fraction=0.9\n"
     ]
    },
    {
     "name": "stderr",
     "output_type": "stream",
     "text": [
      "C:\\Anaconda3\\lib\\site-packages\\lightgbm\\engine.py:151: UserWarning: Found `num_iterations` in params. Will use it instead of argument\n",
      "  warnings.warn(\"Found `{}` in params. Will use it instead of argument\".format(alias))\n"
     ]
    },
    {
     "name": "stdout",
     "output_type": "stream",
     "text": [
      "[LightGBM] [Warning] feature_fraction is set=0.35, colsample_bytree=1.0 will be ignored. Current value: feature_fraction=0.35\n",
      "[LightGBM] [Warning] min_data_in_leaf is set=25, min_child_samples=20 will be ignored. Current value: min_data_in_leaf=25\n",
      "[LightGBM] [Warning] min_sum_hessian_in_leaf is set=10, min_child_weight=0.001 will be ignored. Current value: min_sum_hessian_in_leaf=10\n",
      "[LightGBM] [Warning] bagging_fraction is set=0.9, subsample=1.0 will be ignored. Current value: bagging_fraction=0.9\n"
     ]
    },
    {
     "name": "stderr",
     "output_type": "stream",
     "text": [
      "C:\\Anaconda3\\lib\\site-packages\\lightgbm\\engine.py:151: UserWarning: Found `num_iterations` in params. Will use it instead of argument\n",
      "  warnings.warn(\"Found `{}` in params. Will use it instead of argument\".format(alias))\n"
     ]
    },
    {
     "name": "stdout",
     "output_type": "stream",
     "text": [
      "[LightGBM] [Warning] feature_fraction is set=0.35, colsample_bytree=1.0 will be ignored. Current value: feature_fraction=0.35\n",
      "[LightGBM] [Warning] min_data_in_leaf is set=25, min_child_samples=20 will be ignored. Current value: min_data_in_leaf=25\n",
      "[LightGBM] [Warning] min_sum_hessian_in_leaf is set=10, min_child_weight=0.001 will be ignored. Current value: min_sum_hessian_in_leaf=10\n",
      "[LightGBM] [Warning] bagging_fraction is set=0.9, subsample=1.0 will be ignored. Current value: bagging_fraction=0.9\n"
     ]
    },
    {
     "name": "stderr",
     "output_type": "stream",
     "text": [
      "C:\\Anaconda3\\lib\\site-packages\\lightgbm\\engine.py:151: UserWarning: Found `num_iterations` in params. Will use it instead of argument\n",
      "  warnings.warn(\"Found `{}` in params. Will use it instead of argument\".format(alias))\n"
     ]
    },
    {
     "name": "stdout",
     "output_type": "stream",
     "text": [
      "[LightGBM] [Warning] feature_fraction is set=0.35, colsample_bytree=1.0 will be ignored. Current value: feature_fraction=0.35\n",
      "[LightGBM] [Warning] min_data_in_leaf is set=25, min_child_samples=20 will be ignored. Current value: min_data_in_leaf=25\n",
      "[LightGBM] [Warning] min_sum_hessian_in_leaf is set=10, min_child_weight=0.001 will be ignored. Current value: min_sum_hessian_in_leaf=10\n",
      "[LightGBM] [Warning] bagging_fraction is set=0.9, subsample=1.0 will be ignored. Current value: bagging_fraction=0.9\n"
     ]
    },
    {
     "name": "stderr",
     "output_type": "stream",
     "text": [
      "C:\\Anaconda3\\lib\\site-packages\\lightgbm\\engine.py:151: UserWarning: Found `num_iterations` in params. Will use it instead of argument\n",
      "  warnings.warn(\"Found `{}` in params. Will use it instead of argument\".format(alias))\n"
     ]
    },
    {
     "name": "stdout",
     "output_type": "stream",
     "text": [
      "[LightGBM] [Warning] feature_fraction is set=0.35, colsample_bytree=1.0 will be ignored. Current value: feature_fraction=0.35\n",
      "[LightGBM] [Warning] min_data_in_leaf is set=25, min_child_samples=20 will be ignored. Current value: min_data_in_leaf=25\n",
      "[LightGBM] [Warning] min_sum_hessian_in_leaf is set=10, min_child_weight=0.001 will be ignored. Current value: min_sum_hessian_in_leaf=10\n",
      "[LightGBM] [Warning] bagging_fraction is set=0.9, subsample=1.0 will be ignored. Current value: bagging_fraction=0.9\n"
     ]
    },
    {
     "data": {
      "text/plain": [
       "0.7148234151086515"
      ]
     },
     "execution_count": 57,
     "metadata": {},
     "output_type": "execute_result"
    }
   ],
   "source": [
    "crossval_scores = cross_val_score(LGBModel, X_train,y_train, scoring='roc_auc', cv=10)\n",
    "crossval_scores.mean()"
   ]
  },
  {
   "cell_type": "code",
   "execution_count": 58,
   "metadata": {},
   "outputs": [
    {
     "data": {
      "text/plain": [
       "<matplotlib.axes._subplots.AxesSubplot at 0x1c1f51f9a30>"
      ]
     },
     "execution_count": 58,
     "metadata": {},
     "output_type": "execute_result"
    },
    {
     "data": {
      "image/png": "[encoded data removed]",
      "text/plain": [
       "<Figure size 720x720 with 1 Axes>"
      ]
     },
     "metadata": {
      "needs_background": "light"
     },
     "output_type": "display_data"
    }
   ],
   "source": [
    "lightgbm.plot_importance(LGBModel, max_num_features = 15, figsize = (10,10))"
   ]
  },
  {
   "cell_type": "code",
   "execution_count": 59,
   "metadata": {},
   "outputs": [
    {
     "name": "stdout",
     "output_type": "stream",
     "text": [
      "No Skill: ROC AUC=0.500\n",
      "LGBM: ROC AUC=0.716\n"
     ]
    },
    {
     "data": {
      "image/png": "[encoded data removed]",
      "text/plain": [
       "<Figure size 1080x720 with 1 Axes>"
      ]
     },
     "metadata": {
      "needs_background": "light"
     },
     "output_type": "display_data"
    }
   ],
   "source": [
    "ns_probs = [0 for _ in range(len(y_test))]\n",
    "proba = LGBModel.predict_proba(X_test)\n",
    "# keep probabilities for the positive outcome only\n",
    "lr_probs = proba[:, 1]\n",
    "# calculate scores\n",
    "ns_auc = roc_auc_score(y_test, ns_probs)\n",
    "lr_auc = roc_auc_score(y_test, lr_probs)\n",
    "# summarize scores\n",
    "print('No Skill: ROC AUC=%.3f' % (ns_auc))\n",
    "print('LGBM: ROC AUC=%.3f' % (lr_auc))\n",
    "# calculate roc curves\n",
    "ns_fpr, ns_tpr, _ = roc_curve(y_test, ns_probs)\n",
    "lr_fpr, lr_tpr, _ = roc_curve(y_test, lr_probs)\n",
    "# plot the roc curve for the model\n",
    "f, axes = plt.subplots(figsize=(15, 10))\n",
    "plt.plot(ns_fpr, ns_tpr, linestyle='--', label='No Skill')\n",
    "plt.plot(lr_fpr, lr_tpr, marker='.', label='LGBM')\n",
    "# axis labels\n",
    "plt.xlabel('False Positive Rate')\n",
    "plt.ylabel('True Positive Rate')\n",
    "# show the legend\n",
    "plt.legend()\n",
    "# show the plot\n",
    "plt.title('ROC AUC Score on the test set of our model')\n",
    "plt.show()"
   ]
  },
  {
   "cell_type": "code",
   "execution_count": 60,
   "metadata": {},
   "outputs": [],
   "source": [
    "bestparamsRF = {'min_samples_leaf': [1, 2, 4],\n",
    " 'min_samples_split': [2, 5, 10],\n",
    " 'n_estimators': [100,500,1000]}"
   ]
  },
  {
   "cell_type": "code",
   "execution_count": 61,
   "metadata": {},
   "outputs": [
    {
     "data": {
      "text/plain": [
       "{'bootstrap': [True, False],\n",
       " 'max_depth': [10, 20, 30, None],\n",
       " 'max_features': ['auto', 'sqrt'],\n",
       " 'min_samples_leaf': [1, 2, 4],\n",
       " 'min_samples_split': [2, 5, 10],\n",
       " 'n_estimators': [10, 50, 100]}"
      ]
     },
     "execution_count": 61,
     "metadata": {},
     "output_type": "execute_result"
    }
   ],
   "source": [
    "{'bootstrap': [True, False],\n",
    " 'max_depth': [10, 20, 30, None],\n",
    " 'max_features': ['auto', 'sqrt'],\n",
    " 'min_samples_leaf': [1, 2, 4],\n",
    " 'min_samples_split': [2, 5, 10],\n",
    " 'n_estimators': [10,50,100]}"
   ]
  },
  {
   "cell_type": "code",
   "execution_count": 62,
   "metadata": {},
   "outputs": [
    {
     "name": "stdout",
     "output_type": "stream",
     "text": [
      "Fitting 3 folds for each of 27 candidates, totalling 81 fits\n"
     ]
    },
    {
     "name": "stderr",
     "output_type": "stream",
     "text": [
      "[Parallel(n_jobs=-1)]: Using backend LokyBackend with 8 concurrent workers.\n",
      "[Parallel(n_jobs=-1)]: Done  25 tasks      | elapsed:   32.6s\n",
      "[Parallel(n_jobs=-1)]: Done  81 out of  81 | elapsed:  2.0min finished\n"
     ]
    }
   ],
   "source": [
    "clf = GridSearchCV(RandomForestClassifier(), param_grid = bestparamsRF, n_jobs=-1, scoring = 'roc_auc',cv=3, verbose = 2)\n",
    "clf.fit(X=X_train, y=y_train)\n",
    "rf_model = clf.best_estimator_"
   ]
  },
  {
   "cell_type": "code",
   "execution_count": 63,
   "metadata": {},
   "outputs": [
    {
     "data": {
      "text/plain": [
       "RandomForestClassifier(min_samples_leaf=4, n_estimators=500)"
      ]
     },
     "execution_count": 63,
     "metadata": {},
     "output_type": "execute_result"
    }
   ],
   "source": [
    "clf.best_estimator_"
   ]
  },
  {
   "cell_type": "code",
   "execution_count": 64,
   "metadata": {},
   "outputs": [
    {
     "data": {
      "text/plain": [
       "0.6979054061781538"
      ]
     },
     "execution_count": 64,
     "metadata": {},
     "output_type": "execute_result"
    }
   ],
   "source": [
    "crossval_scores = cross_val_score(rf_model, X_train, y_train, scoring='roc_auc', cv=10)\n",
    "crossval_scores.mean()"
   ]
  },
  {
   "cell_type": "code",
   "execution_count": 65,
   "metadata": {},
   "outputs": [
    {
     "name": "stdout",
     "output_type": "stream",
     "text": [
      "No Skill: ROC AUC=0.500\n",
      "Random Forest: ROC AUC=0.722\n"
     ]
    },
    {
     "data": {
      "image/png": "[encoded data removed]",
      "text/plain": [
       "<Figure size 1080x720 with 1 Axes>"
      ]
     },
     "metadata": {
      "needs_background": "light"
     },
     "output_type": "display_data"
    }
   ],
   "source": [
    "ns_probs = [0 for _ in range(len(y_test))]\n",
    "proba = rf_model.predict_proba(X_test)\n",
    "# keep probabilities for the positive outcome only\n",
    "lr_probs = proba[:, 1]\n",
    "# calculate scores\n",
    "ns_auc = roc_auc_score(y_test, ns_probs)\n",
    "lr_auc = roc_auc_score(y_test, lr_probs)\n",
    "# summarize scores\n",
    "print('No Skill: ROC AUC=%.3f' % (ns_auc))\n",
    "print('Random Forest: ROC AUC=%.3f' % (lr_auc))\n",
    "# calculate roc curves\n",
    "ns_fpr, ns_tpr, _ = roc_curve(y_test, ns_probs)\n",
    "lr_fpr, lr_tpr, _ = roc_curve(y_test, lr_probs)\n",
    "# plot the roc curve for the model\n",
    "f, axes = plt.subplots(figsize=(15, 10))\n",
    "plt.plot(ns_fpr, ns_tpr, linestyle='--', label='No Skill')\n",
    "plt.plot(lr_fpr, lr_tpr, marker='.', label='Random Forest')\n",
    "# axis labels\n",
    "plt.xlabel('False Positive Rate')\n",
    "plt.ylabel('True Positive Rate')\n",
    "# show the legend\n",
    "plt.legend()\n",
    "# show the plot\n",
    "plt.title('ROC AUC Score on the test set of our model')\n",
    "plt.show()"
   ]
  },
  {
   "cell_type": "code",
   "execution_count": 67,
   "metadata": {},
   "outputs": [
    {
     "name": "stdout",
     "output_type": "stream",
     "text": [
      "Mean Accuracy: 0.923\n",
      "Config: {'solver': 'lsqr'}\n"
     ]
    }
   ],
   "source": [
    "# define model\n",
    "lda = LinearDiscriminantAnalysis()\n",
    "# define model evaluation method\n",
    "cv = RepeatedStratifiedKFold(n_splits=10, n_repeats=3, random_state=1)\n",
    "# define grid\n",
    "grid = dict()\n",
    "grid['solver'] = ['svd','lsqr', 'eigen']\n",
    "# define search\n",
    "clf = GridSearchCV(lda, grid, scoring='accuracy', cv=cv, n_jobs=-1)\n",
    "# perform the search\n",
    "clf.fit(X=X_train, y=y_train)\n",
    "lda_model = clf.best_estimator_\n",
    "# summarize\n",
    "print('Mean Accuracy: %.3f' % clf.best_score_)\n",
    "print('Config: %s' % clf.best_params_)"
   ]
  },
  {
   "cell_type": "code",
   "execution_count": 68,
   "metadata": {},
   "outputs": [
    {
     "data": {
      "text/plain": [
       "0.6991871146690505"
      ]
     },
     "execution_count": 68,
     "metadata": {},
     "output_type": "execute_result"
    }
   ],
   "source": [
    "crossval_scores = cross_val_score(lda_model, X_train, y_train, scoring='roc_auc', cv=10)\n",
    "crossval_scores.mean()"
   ]
  },
  {
   "cell_type": "code",
   "execution_count": 69,
   "metadata": {},
   "outputs": [
    {
     "name": "stdout",
     "output_type": "stream",
     "text": [
      "No Skill: ROC AUC=0.500\n",
      "LDA: ROC AUC=0.742\n"
     ]
    },
    {
     "data": {
      "image/png": "[encoded data removed]",
      "text/plain": [
       "<Figure size 1080x720 with 1 Axes>"
      ]
     },
     "metadata": {
      "needs_background": "light"
     },
     "output_type": "display_data"
    }
   ],
   "source": [
    "ns_probs = [0 for _ in range(len(y_test))]\n",
    "proba = lda_model.predict_proba(X_test)\n",
    "# keep probabilities for the positive outcome only\n",
    "lr_probs = proba[:, 1]\n",
    "# calculate scores\n",
    "ns_auc = roc_auc_score(y_test, ns_probs)\n",
    "lr_auc = roc_auc_score(y_test, lr_probs)\n",
    "# summarize scores\n",
    "print('No Skill: ROC AUC=%.3f' % (ns_auc))\n",
    "print('LDA: ROC AUC=%.3f' % (lr_auc))\n",
    "# calculate roc curves\n",
    "ns_fpr, ns_tpr, _ = roc_curve(y_test, ns_probs)\n",
    "lr_fpr, lr_tpr, _ = roc_curve(y_test, lr_probs)\n",
    "# plot the roc curve for the model\n",
    "f, axes = plt.subplots(figsize=(15, 10))\n",
    "plt.plot(ns_fpr, ns_tpr, linestyle='--', label='No Skill')\n",
    "plt.plot(lr_fpr, lr_tpr, marker='.', label='LDA')\n",
    "# axis labels\n",
    "plt.xlabel('False Positive Rate')\n",
    "plt.ylabel('True Positive Rate')\n",
    "# show the legend\n",
    "plt.legend()\n",
    "# show the plot\n",
    "plt.title('ROC AUC Score on the test set of our model')\n",
    "plt.show()"
   ]
  },
  {
   "cell_type": "code",
   "execution_count": 70,
   "metadata": {},
   "outputs": [],
   "source": [
    "bestparamGB = {}\n",
    "              #'min_samples_leaf' : [3]}"
   ]
  },
  {
   "cell_type": "code",
   "execution_count": null,
   "metadata": {},
   "outputs": [
    {
     "name": "stdout",
     "output_type": "stream",
     "text": [
      "Fitting 10 folds for each of 1 candidates, totalling 10 fits\n"
     ]
    },
    {
     "name": "stderr",
     "output_type": "stream",
     "text": [
      "[Parallel(n_jobs=-1)]: Using backend LokyBackend with 8 concurrent workers.\n"
     ]
    }
   ],
   "source": [
    "clf = GridSearchCV(GradientBoostingClassifier(n_estimators=47, subsample=0.92, min_samples_leaf = 3), param_grid = bestparamGB, n_jobs=-1, scoring = 'roc_auc',cv=10, verbose = 2)\n",
    "clf.fit(X=X_train, y=y_train)\n",
    "gb_model = clf.best_estimator_"
   ]
  },
  {
   "cell_type": "code",
   "execution_count": null,
   "metadata": {},
   "outputs": [],
   "source": [
    "# grid_param = {'n_estimators' : list(range(30, 55, 1)),\n",
    "#                'subsample' : [0.7,0.75,0.8,0.85,0.90]}"
   ]
  },
  {
   "cell_type": "code",
   "execution_count": null,
   "metadata": {},
   "outputs": [],
   "source": [
    "# Bayes = BayesSearchCV(GradientBoostingClassifier() , grid_param , n_iter=30 , random_state=14)\n",
    "# Bayes.fit(X_train,y_train)\n",
    "\n",
    "# #best parameter combination\n",
    "# Bayes.best_params_\n",
    "\n",
    "# #score achieved with best parameter combination\n",
    "# Bayes.best_score_\n",
    "\n",
    "# #all combinations of hyperparameters\n",
    "# Bayes.cv_results_['params']"
   ]
  },
  {
   "cell_type": "code",
   "execution_count": null,
   "metadata": {},
   "outputs": [],
   "source": [
    "gb_model = clf.best_estimator_"
   ]
  },
  {
   "cell_type": "code",
   "execution_count": null,
   "metadata": {},
   "outputs": [],
   "source": [
    "# Bayes.best_estimator_"
   ]
  },
  {
   "cell_type": "code",
   "execution_count": null,
   "metadata": {},
   "outputs": [],
   "source": [
    "clf.best_estimator_"
   ]
  },
  {
   "cell_type": "code",
   "execution_count": null,
   "metadata": {},
   "outputs": [],
   "source": [
    "crossval_scores = cross_val_score(gb_model, X_train, y_train, scoring='roc_auc', cv=5)\n",
    "crossval_scores.mean()"
   ]
  },
  {
   "cell_type": "code",
   "execution_count": null,
   "metadata": {
    "scrolled": false
   },
   "outputs": [],
   "source": [
    "ns_probs = [0 for _ in range(len(y_test))]\n",
    "proba = gb_model.predict_proba(X_test)\n",
    "# keep probabilities for the positive outcome only\n",
    "lr_probs = proba[:, 1]\n",
    "# calculate scores\n",
    "ns_auc = roc_auc_score(y_test, ns_probs)\n",
    "lr_auc = roc_auc_score(y_test, lr_probs)\n",
    "# summarize scores\n",
    "print('No Skill: ROC AUC=%.3f' % (ns_auc))\n",
    "print('Gradient Boosting: ROC AUC=%.3f' % (lr_auc))\n",
    "# calculate roc curves\n",
    "ns_fpr, ns_tpr, _ = roc_curve(y_test, ns_probs)\n",
    "lr_fpr, lr_tpr, _ = roc_curve(y_test, lr_probs)\n",
    "# plot the roc curve for the model\n",
    "f, axes = plt.subplots(figsize=(15, 10))\n",
    "plt.plot(ns_fpr, ns_tpr, linestyle='--', label='No Skill')\n",
    "plt.plot(lr_fpr, lr_tpr, marker='.', label='Gradient Boosting')\n",
    "# axis labels\n",
    "plt.xlabel('False Positive Rate')\n",
    "plt.ylabel('True Positive Rate')\n",
    "# show the legend\n",
    "plt.legend()\n",
    "# show the plot\n",
    "plt.title('ROC AUC Score on the test set of our model')\n",
    "plt.show()"
   ]
  },
  {
   "cell_type": "code",
   "execution_count": null,
   "metadata": {},
   "outputs": [],
   "source": [
    "xgb = XGBClassifier()\n",
    "\n",
    "xgb_model = xgb.fit(X_train, y_train)"
   ]
  },
  {
   "cell_type": "code",
   "execution_count": null,
   "metadata": {
    "scrolled": true
   },
   "outputs": [],
   "source": [
    "crossval_scores = cross_val_score(xgb_model, X_train, y_train, scoring='roc_auc', cv=10)\n",
    "crossval_scores.mean()"
   ]
  },
  {
   "cell_type": "code",
   "execution_count": null,
   "metadata": {},
   "outputs": [],
   "source": [
    "ns_probs = [0 for _ in range(len(y_test))]\n",
    "proba = xgb.predict_proba(X_test)\n",
    "# keep probabilities for the positive outcome only\n",
    "lr_probs = proba[:, 1]\n",
    "# calculate scores\n",
    "ns_auc = roc_auc_score(y_test, ns_probs)\n",
    "lr_auc = roc_auc_score(y_test, lr_probs)\n",
    "# summarize scores\n",
    "print('No Skill: ROC AUC=%.3f' % (ns_auc))\n",
    "print('XGradient Boosting: ROC AUC=%.3f' % (lr_auc))\n",
    "# calculate roc curves\n",
    "ns_fpr, ns_tpr, _ = roc_curve(y_test, ns_probs)\n",
    "lr_fpr, lr_tpr, _ = roc_curve(y_test, lr_probs)\n",
    "# plot the roc curve for the model\n",
    "f, axes = plt.subplots(figsize=(15, 10))\n",
    "plt.plot(ns_fpr, ns_tpr, linestyle='--', label='No Skill')\n",
    "plt.plot(lr_fpr, lr_tpr, marker='.', label='XGradient Boosting')\n",
    "# axis labels\n",
    "plt.xlabel('False Positive Rate')\n",
    "plt.ylabel('True Positive Rate')\n",
    "# show the legend\n",
    "plt.legend()\n",
    "# show the plot\n",
    "plt.title('ROC AUC Score on the test set of our model')\n",
    "plt.show()"
   ]
  },
  {
   "cell_type": "code",
   "execution_count": null,
   "metadata": {},
   "outputs": [],
   "source": [
    "bestparamsBag = {}"
   ]
  },
  {
   "cell_type": "code",
   "execution_count": null,
   "metadata": {},
   "outputs": [],
   "source": [
    "clf = GridSearchCV(BaggingClassifier(base_estimator=GradientBoostingClassifier(n_estimators = 50)), param_grid = bestparamsBag, n_jobs=-1, scoring = 'roc_auc',cv=3, verbose = 2)\n",
    "clf.fit(X=X_train, y=y_train)\n",
    "bag_model = clf.best_estimator_"
   ]
  },
  {
   "cell_type": "code",
   "execution_count": null,
   "metadata": {},
   "outputs": [],
   "source": [
    "crossval_scores = cross_val_score(bag_model, X_train, y_train, scoring='roc_auc', cv=5)\n",
    "crossval_scores.mean()"
   ]
  },
  {
   "cell_type": "code",
   "execution_count": null,
   "metadata": {},
   "outputs": [],
   "source": [
    "clf.best_estimator_"
   ]
  },
  {
   "cell_type": "code",
   "execution_count": null,
   "metadata": {},
   "outputs": [],
   "source": [
    "ns_probs = [0 for _ in range(len(y_test))]\n",
    "proba = bag_model.predict_proba(X_test)\n",
    "# keep probabilities for the positive outcome only\n",
    "lr_probs = proba[:, 1]\n",
    "# calculate scores\n",
    "ns_auc = roc_auc_score(y_test, ns_probs)\n",
    "lr_auc = roc_auc_score(y_test, lr_probs)\n",
    "# summarize scores\n",
    "print('No Skill: ROC AUC=%.3f' % (ns_auc))\n",
    "print('Bagging: ROC AUC=%.3f' % (lr_auc))\n",
    "# calculate roc curves\n",
    "ns_fpr, ns_tpr, _ = roc_curve(y_test, ns_probs)\n",
    "lr_fpr, lr_tpr, _ = roc_curve(y_test, lr_probs)\n",
    "# plot the roc curve for the model\n",
    "f, axes = plt.subplots(figsize=(15, 10))\n",
    "plt.plot(ns_fpr, ns_tpr, linestyle='--', label='No Skill')\n",
    "plt.plot(lr_fpr, lr_tpr, marker='.', label='Bagging')\n",
    "# axis labels\n",
    "plt.xlabel('False Positive Rate')\n",
    "plt.ylabel('True Positive Rate')\n",
    "# show the legend\n",
    "plt.legend()\n",
    "# show the plot\n",
    "plt.title('ROC AUC Score on the test set of our model')\n",
    "plt.show()"
   ]
  },
  {
   "cell_type": "code",
   "execution_count": null,
   "metadata": {},
   "outputs": [],
   "source": [
    "estimators = [('rf', RandomForestClassifier()),\n",
    "              ('knn', KNeighborsClassifier())]\n",
    "clf = StackingClassifier(estimators=estimators, final_estimator=GradientBoostingClassifier())"
   ]
  },
  {
   "cell_type": "code",
   "execution_count": null,
   "metadata": {},
   "outputs": [],
   "source": [
    "stack_model = clf.fit(X=X_train, y=y_train)"
   ]
  },
  {
   "cell_type": "code",
   "execution_count": null,
   "metadata": {},
   "outputs": [],
   "source": [
    "crossval_scores = cross_val_score(stack_model, X_train, y_train, scoring='roc_auc', cv=5, verbose = 2)\n",
    "crossval_scores.mean()"
   ]
  },
  {
   "cell_type": "code",
   "execution_count": null,
   "metadata": {},
   "outputs": [],
   "source": [
    "ns_probs = [0 for _ in range(len(y_test))]\n",
    "proba = stack_model.predict_proba(X_test)\n",
    "# keep probabilities for the positive outcome only\n",
    "lr_probs = proba[:, 1]\n",
    "# calculate scores\n",
    "ns_auc = roc_auc_score(y_test, ns_probs)\n",
    "lr_auc = roc_auc_score(y_test, lr_probs)\n",
    "# summarize scores\n",
    "print('No Skill: ROC AUC=%.3f' % (ns_auc))\n",
    "print('Bagging: ROC AUC=%.3f' % (lr_auc))\n",
    "# calculate roc curves\n",
    "ns_fpr, ns_tpr, _ = roc_curve(y_test, ns_probs)\n",
    "lr_fpr, lr_tpr, _ = roc_curve(y_test, lr_probs)\n",
    "# plot the roc curve for the model\n",
    "f, axes = plt.subplots(figsize=(15, 10))\n",
    "plt.plot(ns_fpr, ns_tpr, linestyle='--', label='No Skill')\n",
    "plt.plot(lr_fpr, lr_tpr, marker='.', label='Bagging')\n",
    "# axis labels\n",
    "plt.xlabel('False Positive Rate')\n",
    "plt.ylabel('True Positive Rate')\n",
    "# show the legend\n",
    "plt.legend()\n",
    "# show the plot\n",
    "plt.title('ROC AUC Score on the test set of our model')\n",
    "plt.show()"
   ]
  },
  {
   "cell_type": "code",
   "execution_count": null,
   "metadata": {},
   "outputs": [],
   "source": [
    "params = [{'reg_param': [0.1, 0.2, 0.3, 0.4, 0.5]}]"
   ]
  },
  {
   "cell_type": "code",
   "execution_count": null,
   "metadata": {},
   "outputs": [],
   "source": [
    "clf = GridSearchCV(QuadraticDiscriminantAnalysis(), param_grid = params, n_jobs=-1, scoring = 'roc_auc',cv=3, verbose = 2)\n",
    "\n",
    "qda = clf.fit(X_train, y_train)\n",
    "\n",
    "qda_model = clf.best_estimator_"
   ]
  },
  {
   "cell_type": "code",
   "execution_count": null,
   "metadata": {},
   "outputs": [],
   "source": [
    "crossval_scores = cross_val_score(qda, X_train, y_train, scoring='roc_auc', cv=5)\n",
    "crossval_scores.mean()"
   ]
  },
  {
   "cell_type": "code",
   "execution_count": null,
   "metadata": {},
   "outputs": [],
   "source": [
    "ns_probs = [0 for _ in range(len(y_test))]\n",
    "proba = qda_model.predict_proba(X_test)\n",
    "# keep probabilities for the positive outcome only\n",
    "lr_probs = proba[:, 1]\n",
    "# calculate scores\n",
    "ns_auc = roc_auc_score(y_test, ns_probs)\n",
    "lr_auc = roc_auc_score(y_test, lr_probs)\n",
    "# summarize scores\n",
    "print('No Skill: ROC AUC=%.3f' % (ns_auc))\n",
    "print('QDA: ROC AUC=%.3f' % (lr_auc))\n",
    "# calculate roc curves\n",
    "ns_fpr, ns_tpr, _ = roc_curve(y_test, ns_probs)\n",
    "lr_fpr, lr_tpr, _ = roc_curve(y_test, lr_probs)\n",
    "# plot the roc curve for the model\n",
    "f, axes = plt.subplots(figsize=(15, 10))\n",
    "plt.plot(ns_fpr, ns_tpr, linestyle='--', label='No Skill')\n",
    "plt.plot(lr_fpr, lr_tpr, marker='.', label='QDA')\n",
    "# axis labels\n",
    "plt.xlabel('False Positive Rate')\n",
    "plt.ylabel('True Positive Rate')\n",
    "# show the legend\n",
    "plt.legend()\n",
    "# show the plot\n",
    "plt.title('ROC AUC Score on the test set of our model')\n",
    "plt.show()"
   ]
  },
  {
   "cell_type": "code",
   "execution_count": null,
   "metadata": {},
   "outputs": [],
   "source": [
    "stop"
   ]
  },
  {
   "cell_type": "code",
   "execution_count": null,
   "metadata": {},
   "outputs": [],
   "source": [
    "predictions = gb_model.predict_proba(test[lgb_feature])\n",
    "\n",
    "test[\"churn\"] = predictions[:,1]"
   ]
  },
  {
   "cell_type": "code",
   "execution_count": null,
   "metadata": {},
   "outputs": [],
   "source": [
    "final = test[['cust_id','churn']]"
   ]
  },
  {
   "cell_type": "code",
   "execution_count": null,
   "metadata": {},
   "outputs": [],
   "source": [
    "final.to_csv(\"SML_Kaggle_Comp_TH_65.csv\", index = False)"
   ]
  },
  {
   "cell_type": "code",
   "execution_count": null,
   "metadata": {},
   "outputs": [],
   "source": [
    "final"
   ]
  },
  {
   "cell_type": "code",
   "execution_count": null,
   "metadata": {},
   "outputs": [],
   "source": []
  }
 ],
 "metadata": {
  "kernelspec": {
   "display_name": "Python 3",
   "language": "python",
   "name": "python3"
  },
  "language_info": {
   "codemirror_mode": {
    "name": "ipython",
    "version": 3
   },
   "file_extension": ".py",
   "mimetype": "text/x-python",
   "name": "python",
   "nbconvert_exporter": "python",
   "pygments_lexer": "ipython3",
   "version": "3.8.3"
  }
 },
 "nbformat": 4,
 "nbformat_minor": 4
}
